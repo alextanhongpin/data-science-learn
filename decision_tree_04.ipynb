{
 "cells": [
  {
   "cell_type": "code",
   "execution_count": 54,
   "metadata": {},
   "outputs": [],
   "source": [
    "import numpy as np\n",
    "import math\n",
    "\n",
    "from collections import Counter"
   ]
  },
  {
   "cell_type": "code",
   "execution_count": 55,
   "metadata": {},
   "outputs": [
    {
     "data": {
      "text/plain": [
       "(14, 5)"
      ]
     },
     "execution_count": 55,
     "metadata": {},
     "output_type": "execute_result"
    }
   ],
   "source": [
    "# Outlook, Temperature, Humidity, Wind, Played Football (yes, no).\n",
    "data = [['sunny', 'hot', 'high', 'weak', 'no'],\n",
    " ['sunny', 'hot', 'high', 'strong', 'no'],\n",
    " ['overcast', 'hot', 'high', 'weak', 'yes'],\n",
    " ['rain', 'mild', 'high', 'weak', 'yes'],\n",
    " ['rain', 'cool', 'normal', 'weak', 'yes'],\n",
    " ['rain', 'cool', 'normal', 'strong', 'no'],\n",
    " ['overcast', 'cool', 'normal', 'strong', 'yes'],\n",
    " ['sunny', 'mild', 'high', 'weak', 'no'],\n",
    " ['sunny', 'cool', 'normal', 'weak', 'yes'],\n",
    " ['rain', 'mild', 'normal', 'weak', 'yes'],\n",
    " ['sunny', 'mild', 'normal', 'strong', 'yes'],\n",
    " ['overcast', 'mild', 'high', 'strong', 'yes'],\n",
    " ['overcast', 'hot', 'normal', 'weak', 'yes'],\n",
    " ['rain', 'mild', 'high', 'strong', 'no']]\n",
    "data = np.array(data)\n",
    "data.shape"
   ]
  },
  {
   "cell_type": "code",
   "execution_count": 93,
   "metadata": {},
   "outputs": [],
   "source": [
    "def entropy(t, f):\n",
    "    if t == 0 or f == 0: return 0\n",
    "    n = t + f\n",
    "    fn = lambda p: -p * math.log2(p)\n",
    "    return fn(t / n) + fn(f / n)"
   ]
  },
  {
   "cell_type": "markdown",
   "metadata": {},
   "source": [
    "## Classification using ID3  algorithm\n",
    "\n",
    "This uses entropy and information gain as metrics."
   ]
  },
  {
   "cell_type": "code",
   "execution_count": 57,
   "metadata": {},
   "outputs": [
    {
     "data": {
      "text/plain": [
       "(9, 5)"
      ]
     },
     "execution_count": 57,
     "metadata": {},
     "output_type": "execute_result"
    }
   ],
   "source": [
    "# Let's find the entropy of the target variables, E(S).\n",
    "yes, no = data[data[:, -1] == 'yes'], data[data[:, -1] == 'no']\n",
    "t, f = len(yes), len(no)\n",
    "t, f"
   ]
  },
  {
   "cell_type": "code",
   "execution_count": 58,
   "metadata": {},
   "outputs": [
    {
     "data": {
      "text/plain": [
       "0.9402859586706311"
      ]
     },
     "execution_count": 58,
     "metadata": {},
     "output_type": "execute_result"
    }
   ],
   "source": [
    "parent_entropy = entropy(t, f)\n",
    "parent_entropy # 0.9402859586706311"
   ]
  },
  {
   "cell_type": "code",
   "execution_count": 59,
   "metadata": {},
   "outputs": [
    {
     "data": {
      "text/plain": [
       "array([['sunny', 'hot', 'high', 'weak', 'no'],\n",
       "       ['sunny', 'hot', 'high', 'strong', 'no'],\n",
       "       ['sunny', 'mild', 'high', 'weak', 'no'],\n",
       "       ['sunny', 'cool', 'normal', 'weak', 'yes'],\n",
       "       ['sunny', 'mild', 'normal', 'strong', 'yes']], dtype='<U8')"
      ]
     },
     "execution_count": 59,
     "metadata": {},
     "output_type": "execute_result"
    }
   ],
   "source": [
    "# Let's find the entropy for the outlook Sunny, E(Sunny).\n",
    "# First, find the columns with the outlook Sunny.\n",
    "sunny = data[data[:, 0] == 'sunny']\n",
    "sunny"
   ]
  },
  {
   "cell_type": "code",
   "execution_count": 60,
   "metadata": {},
   "outputs": [
    {
     "data": {
      "text/plain": [
       "(2, 3)"
      ]
     },
     "execution_count": 60,
     "metadata": {},
     "output_type": "execute_result"
    }
   ],
   "source": [
    "# For each of the rows, split by the target output.\n",
    "yes, no = sunny[sunny[:,-1] == 'yes'], sunny[sunny[:,-1] == 'no']\n",
    "t, f = len(yes), len(no)\n",
    "t, f"
   ]
  },
  {
   "cell_type": "code",
   "execution_count": 61,
   "metadata": {},
   "outputs": [
    {
     "data": {
      "text/plain": [
       "0.9709505944546686"
      ]
     },
     "execution_count": 61,
     "metadata": {},
     "output_type": "execute_result"
    }
   ],
   "source": [
    "entropy(t, f)"
   ]
  },
  {
   "cell_type": "code",
   "execution_count": 62,
   "metadata": {},
   "outputs": [
    {
     "data": {
      "text/plain": [
       "[('sunny', 5), ('overcast', 4), ('rain', 5)]"
      ]
     },
     "execution_count": 62,
     "metadata": {},
     "output_type": "execute_result"
    }
   ],
   "source": [
    "# How about the entropy of target given Outlook, E(S,Outlook)?\n",
    "# To find E(S, Outlook), we need to calculate the average weighted entropy.\n",
    "# First, we find out all the possible values for the Outlook.\n",
    "\n",
    "outlooks = list(Counter(data[:, 0]).items())\n",
    "outlooks"
   ]
  },
  {
   "cell_type": "code",
   "execution_count": 107,
   "metadata": {},
   "outputs": [],
   "source": [
    "def group_entropy(data, col, alg=entropy):\n",
    "    groups = list(Counter(data[:, col]).items())\n",
    "    avg = 0.0\n",
    "    total = len(data)\n",
    "    # For each value, find the ratio of the target class.\n",
    "    for group, count in groups:\n",
    "        # Get all the rows with the given outlook.\n",
    "        group_rows = data[data[:,col] == group]\n",
    "\n",
    "        # Split by yes and no.\n",
    "        yes, no = group_rows[group_rows[:,-1] == 'yes'], group_rows[group_rows[:,-1] == 'no']\n",
    "        t, f = len(yes), len(no)\n",
    "        avg += alg(t, f) * count / total\n",
    "    return avg"
   ]
  },
  {
   "cell_type": "code",
   "execution_count": 108,
   "metadata": {},
   "outputs": [
    {
     "data": {
      "text/plain": [
       "0.6935361388961919"
      ]
     },
     "execution_count": 108,
     "metadata": {},
     "output_type": "execute_result"
    }
   ],
   "source": [
    "group_entropy(data, col=0) # 0.6935361388961919"
   ]
  },
  {
   "cell_type": "code",
   "execution_count": 71,
   "metadata": {},
   "outputs": [
    {
     "data": {
      "text/plain": [
       "0.24674981977443922"
      ]
     },
     "execution_count": 71,
     "metadata": {},
     "output_type": "execute_result"
    }
   ],
   "source": [
    "# The information gain is the difference between the parent entropy E(S)\n",
    "# and the average weighed entropy we found above E(S, Outlook).\n",
    "information_gain = parent_entropy - average_weighted_entropy\n",
    "information_gain # 0.24674981977443922"
   ]
  },
  {
   "cell_type": "code",
   "execution_count": 74,
   "metadata": {},
   "outputs": [
    {
     "name": "stdout",
     "output_type": "stream",
     "text": [
      "0 0.24674981977443922\n",
      "1 0.02922256565895487\n",
      "2 0.15183550136234159\n",
      "3 0.04812703040826949\n"
     ]
    }
   ],
   "source": [
    "# Find the information gain for all groups/features.\n",
    "_, col = data.shape\n",
    "n_features = col - 1 # Exclude the last column, which is the target variable.\n",
    "best_feature = 0\n",
    "best_gain = -float('inf')\n",
    "\n",
    "for i in range(n_features):\n",
    "    average_weighted_entropy = group_entropy(data, col=i)\n",
    "    information_gain = parent_entropy - average_weighted_entropy\n",
    "    if information_gain > best_gain:\n",
    "        best_gain = information_gain\n",
    "        best_feature = i\n",
    "    print(i, information_gain)"
   ]
  },
  {
   "cell_type": "code",
   "execution_count": 75,
   "metadata": {},
   "outputs": [
    {
     "data": {
      "text/plain": [
       "(0, 0.24674981977443922)"
      ]
     },
     "execution_count": 75,
     "metadata": {},
     "output_type": "execute_result"
    }
   ],
   "source": [
    "# This should print the Outlook as the best feature.\n",
    "# Outlook will form the root node.\n",
    "best_feature, best_gain"
   ]
  },
  {
   "cell_type": "code",
   "execution_count": 76,
   "metadata": {},
   "outputs": [],
   "source": [
    "#        Outlook\n",
    "#    /      |     \\\n",
    "# sunny overcast rain"
   ]
  },
  {
   "cell_type": "code",
   "execution_count": 81,
   "metadata": {},
   "outputs": [
    {
     "data": {
      "text/plain": [
       "0.9709505944546686"
      ]
     },
     "execution_count": 81,
     "metadata": {},
     "output_type": "execute_result"
    }
   ],
   "source": [
    "# Now let's find the nodes below Outlook sunny.\n",
    "# The parent entropy E(Sunny) is:\n",
    "outlook_sunny = data[data[:,0] == 'sunny']\n",
    "sunny_parent_entropy = group_entropy(outlook_sunny, 0)\n",
    "sunny_parent_entropy"
   ]
  },
  {
   "cell_type": "code",
   "execution_count": 86,
   "metadata": {},
   "outputs": [
    {
     "name": "stdout",
     "output_type": "stream",
     "text": [
      "IG(sunny,Temperature) 0.5709505944546686\n",
      "IG(sunny,Humidity) 0.9709505944546686\n",
      "IG(sunny,Windy) 0.01997309402197478\n"
     ]
    }
   ],
   "source": [
    "# Exclude the outlook variable, hence starts from 1.\n",
    "labels = ['', \n",
    "          'IG(sunny,Temperature)',\n",
    "          'IG(sunny,Humidity)',\n",
    "          'IG(sunny,Windy)']\n",
    "\n",
    "best_feature, best_gain = 0, -float('inf')\n",
    "\n",
    "for i in range(1, n_features):\n",
    "    # E(Sunny, Feature_i)\n",
    "    average_weighted_entropy = group_entropy(outlook_sunny, i)\n",
    "    information_gain = sunny_parent_entropy - average_weighted_entropy\n",
    "    if information_gain > best_gain:\n",
    "        best_gain = information_gain\n",
    "        best_feature = i\n",
    "    print(labels[i], information_gain)"
   ]
  },
  {
   "cell_type": "code",
   "execution_count": 87,
   "metadata": {},
   "outputs": [
    {
     "data": {
      "text/plain": [
       "(2, 0.9709505944546686)"
      ]
     },
     "execution_count": 87,
     "metadata": {},
     "output_type": "execute_result"
    }
   ],
   "source": [
    "# Humidity is the best feature, so it will be under sunny.\n",
    "best_feature, best_gain"
   ]
  },
  {
   "cell_type": "code",
   "execution_count": 88,
   "metadata": {},
   "outputs": [],
   "source": [
    "#        Outlook\n",
    "#    /      |     \\\n",
    "# sunny overcast rain\n",
    "#  /\n",
    "# Humidity"
   ]
  },
  {
   "cell_type": "code",
   "execution_count": 91,
   "metadata": {},
   "outputs": [
    {
     "data": {
      "text/plain": [
       "{'high', 'normal'}"
      ]
     },
     "execution_count": 91,
     "metadata": {},
     "output_type": "execute_result"
    }
   ],
   "source": [
    "humidity_groups = set(outlook_sunny[:,2])\n",
    "humidity_groups"
   ]
  },
  {
   "cell_type": "code",
   "execution_count": 92,
   "metadata": {},
   "outputs": [
    {
     "name": "stdout",
     "output_type": "stream",
     "text": [
      "high 0.0\n",
      "normal 0.0\n"
     ]
    }
   ],
   "source": [
    "# Since both the information gain is 0, it's a terminal node.\n",
    "for group in humidity_groups:\n",
    "    humidity = outlook_sunny[outlook_sunny[:,2] == group]\n",
    "    print(group, group_entropy(humidity, -1))"
   ]
  },
  {
   "cell_type": "code",
   "execution_count": 94,
   "metadata": {},
   "outputs": [],
   "source": [
    "#        Outlook\n",
    "#    /      |     \\\n",
    "# sunny overcast rain\n",
    "#  /\n",
    "# Humidity\n",
    "#  /  \\ \n",
    "# high normal"
   ]
  },
  {
   "cell_type": "markdown",
   "metadata": {},
   "source": [
    "## Classification using CART\n",
    "\n",
    "Instead of entropy, we use gini impurity. Instead of finding the lowest entropy, we prefer the one with the higher gini gain."
   ]
  },
  {
   "cell_type": "code",
   "execution_count": 105,
   "metadata": {},
   "outputs": [],
   "source": [
    "def gini(t, f):\n",
    "    if t == 0 or f == 0: return 0\n",
    "    fn = lambda v: (v / (t + f)) ** 2\n",
    "    return 1 - fn(t) - fn(f)"
   ]
  },
  {
   "cell_type": "code",
   "execution_count": 106,
   "metadata": {},
   "outputs": [
    {
     "data": {
      "text/plain": [
       "0.4591836734693877"
      ]
     },
     "execution_count": 106,
     "metadata": {},
     "output_type": "execute_result"
    }
   ],
   "source": [
    "gini(9, 5) # 0.4591836734693877"
   ]
  },
  {
   "cell_type": "code",
   "execution_count": 113,
   "metadata": {},
   "outputs": [
    {
     "data": {
      "text/plain": [
       "0.4591836734693877"
      ]
     },
     "execution_count": 113,
     "metadata": {},
     "output_type": "execute_result"
    }
   ],
   "source": [
    "yes = data[data[:,-1] == 'yes']\n",
    "no = data[data[:,-1] == 'no']\n",
    "t, f = len(yes), len(no)\n",
    "parent_gini = gini(t, f)\n",
    "parent_gini"
   ]
  },
  {
   "cell_type": "code",
   "execution_count": 115,
   "metadata": {},
   "outputs": [
    {
     "name": "stdout",
     "output_type": "stream",
     "text": [
      "0 0.11632653061224485\n",
      "1 0.01870748299319719\n",
      "2 0.09183673469387743\n",
      "3 0.030612244897959162\n"
     ]
    }
   ],
   "source": [
    "# Now, find the gini gain for each feature. Prefer higher gini gain.\n",
    "best_feature, best_gain = 0, -float('inf')\n",
    "for i in range(n_features):\n",
    "    group_gini = group_entropy(data, i, gini)\n",
    "    gini_gain = parent_gini - group_gini\n",
    "    if gini_gain > best_gain:\n",
    "        best_gain = gini_gain\n",
    "        best_feature = i\n",
    "    print(i, gini_gain)"
   ]
  },
  {
   "cell_type": "code",
   "execution_count": 116,
   "metadata": {},
   "outputs": [
    {
     "data": {
      "text/plain": [
       "(0, 0.11632653061224485)"
      ]
     },
     "execution_count": 116,
     "metadata": {},
     "output_type": "execute_result"
    }
   ],
   "source": [
    "# Gini gain is higher for outlook.\n",
    "best_feature, best_gain"
   ]
  },
  {
   "cell_type": "markdown",
   "metadata": {},
   "source": [
    "## References\n",
    "https://medium.com/datadriveninvestor/decision-tree-algorithm-with-hands-on-example-e6c2afb40d38"
   ]
  },
  {
   "cell_type": "code",
   "execution_count": null,
   "metadata": {},
   "outputs": [],
   "source": []
  }
 ],
 "metadata": {
  "kernelspec": {
   "display_name": "Python 3",
   "language": "python",
   "name": "python3"
  },
  "language_info": {
   "codemirror_mode": {
    "name": "ipython",
    "version": 3
   },
   "file_extension": ".py",
   "mimetype": "text/x-python",
   "name": "python",
   "nbconvert_exporter": "python",
   "pygments_lexer": "ipython3",
   "version": "3.7.3"
  }
 },
 "nbformat": 4,
 "nbformat_minor": 2
}
