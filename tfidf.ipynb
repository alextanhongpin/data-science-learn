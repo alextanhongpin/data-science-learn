{
 "cells": [
  {
   "cell_type": "markdown",
   "metadata": {},
   "source": [
    "# Term Frequency (TF)\n",
    "\n",
    "\n",
    "The number of times the terms appears in document / total number of terms in document.\n",
    "\n",
    "Say in a 100 word document, the term \"cat\" appears 12 times. The TF is then 12 / 100"
   ]
  },
  {
   "cell_type": "markdown",
   "metadata": {},
   "source": [
    "# Inverse Data Frequency (IDF)\n",
    "\n",
    "Is used to calculate the weight of rare words across all documents in the corpus. The word that occur rarely in the corpus have a high IDF score.\n",
    "```\n",
    "log(total number of documents / total number of documents with terms in it)\n",
    "```\n",
    "\n",
    "Say there are 10 documents, and 3 has the term \"cat\" in it, then the IDF is log10(10/3)"
   ]
  },
  {
   "cell_type": "code",
   "execution_count": 157,
   "metadata": {},
   "outputs": [],
   "source": [
    "documents = ['The car is driven on the road',\n",
    "             'The truck is driven on the highway']\n",
    "documents = [\n",
    "    \"the cat sat on my face\",\n",
    "    \"the dog sat on my bed\"\n",
    "]"
   ]
  },
  {
   "cell_type": "code",
   "execution_count": 158,
   "metadata": {},
   "outputs": [
    {
     "data": {
      "text/plain": [
       "[['the', 'cat', 'sat', 'on', 'my', 'face'],\n",
       " ['the', 'dog', 'sat', 'on', 'my', 'bed']]"
      ]
     },
     "execution_count": 158,
     "metadata": {},
     "output_type": "execute_result"
    }
   ],
   "source": [
    "parsed_documents = [document.split(' ') for document in documents]\n",
    "parsed_documents"
   ]
  },
  {
   "cell_type": "code",
   "execution_count": 163,
   "metadata": {},
   "outputs": [
    {
     "name": "stdout",
     "output_type": "stream",
     "text": [
      "tfidf for the is 0.0\n",
      "tfidf for cat is 0.050171665943996864\n",
      "tfidf for sat is 0.0\n",
      "tfidf for on is 0.0\n",
      "tfidf for my is 0.0\n",
      "tfidf for face is 0.050171665943996864\n",
      "\n",
      "tfidf for the is 0.0\n",
      "tfidf for dog is 0.050171665943996864\n",
      "tfidf for sat is 0.0\n",
      "tfidf for on is 0.0\n",
      "tfidf for my is 0.0\n",
      "tfidf for bed is 0.050171665943996864\n",
      "\n"
     ]
    }
   ],
   "source": [
    "from collections import Counter\n",
    "import math\n",
    "\n",
    "\n",
    "df_scores = {}\n",
    "tf_scores = []\n",
    "for i, document in enumerate(documents):\n",
    "    result = {}\n",
    "    words = document.split(' ')\n",
    "    \n",
    "    # Get the number of terms for each words in the document.\n",
    "    counter = Counter(words)\n",
    "    for term, freq in counter.items():\n",
    "        # The term frequency is the frequency of the words in the \n",
    "        # current documents, divided by the number of words in the\n",
    "        # document.\n",
    "        tf = freq/len(words)\n",
    "        \n",
    "        # Store the result for each document.\n",
    "        result[term] = tf\n",
    "        \n",
    "        # For each unique term, add the document_frequency.\n",
    "        # This will give the number of documents with the given term\n",
    "        # for the IDF calculation.\n",
    "        df_scores[term] = df_scores.get(term, 0) + 1\n",
    "    tf_scores.append(result)\n",
    "\n",
    "docs = len(documents)\n",
    "\n",
    "for item in tf_scores:\n",
    "    for term, tf in item.items():\n",
    "        df = df_scores[term]\n",
    "        # This is the textbook algorithm, sklearn implements it differently.\n",
    "        idf = math.log10(docs/df)\n",
    "        tfidf = tf * idf\n",
    "        print(f'tfidf for {term} is {tfidf}')\n",
    "    print()"
   ]
  },
  {
   "cell_type": "markdown",
   "metadata": {},
   "source": [
    "https://scikit-learn.org/stable/modules/generated/sklearn.feature_extraction.text.TfidfTransformer.html#sklearn.feature_extraction.text.TfidfTransformer\n",
    "\n",
    "If `smooth_idf=True` (the default), the constant “1” is added to the numerator and denominator of the idf as if an extra document was seen containing every term in the collection exactly once, which prevents zero divisions: idf(d, t) = log [ (1 + n) / (1 + df(d, t)) ] + 1.\n",
    "\n",
    "if `smooth_idf=False`, idf(t) = log [ n / df(t) ] + 1 \n",
    "\n",
    "(Note that the idf formula above differs from the standard textbook notation that defines the idf as idf(t) = log [ n / (df(t) + 1) ])."
   ]
  },
  {
   "cell_type": "code",
   "execution_count": 160,
   "metadata": {},
   "outputs": [],
   "source": [
    "from sklearn.feature_extraction.text import TfidfVectorizer"
   ]
  },
  {
   "cell_type": "code",
   "execution_count": 161,
   "metadata": {},
   "outputs": [
    {
     "name": "stdout",
     "output_type": "stream",
     "text": [
      "  (0, 7)\t0.35464863330313684\n",
      "  (0, 1)\t0.49844627974580596\n",
      "  (0, 6)\t0.35464863330313684\n",
      "  (0, 5)\t0.35464863330313684\n",
      "  (0, 4)\t0.35464863330313684\n",
      "  (0, 3)\t0.49844627974580596\n",
      "  (1, 7)\t0.35464863330313684\n",
      "  (1, 6)\t0.35464863330313684\n",
      "  (1, 5)\t0.35464863330313684\n",
      "  (1, 4)\t0.35464863330313684\n",
      "  (1, 2)\t0.49844627974580596\n",
      "  (1, 0)\t0.49844627974580596\n"
     ]
    }
   ],
   "source": [
    "vectorizer = TfidfVectorizer(lowercase=False,use_idf=True,smooth_idf=True)\n",
    "response = vectorizer.fit_transform(documents)\n",
    "print(response)"
   ]
  },
  {
   "cell_type": "markdown",
   "metadata": {},
   "source": [
    "References\n",
    "\n",
    "- https://triton.ml/blog/tf-idf-from-scratch\n",
    "- https://github.com/mayank408/TFIDF/blob/master/TFIDF.ipynb\n",
    "- https://www.freecodecamp.org/news/how-to-process-textual-data-using-tf-idf-in-python-cd2bbc0a94a3/"
   ]
  }
 ],
 "metadata": {
  "kernelspec": {
   "display_name": "Python 3",
   "language": "python",
   "name": "python3"
  },
  "language_info": {
   "codemirror_mode": {
    "name": "ipython",
    "version": 3
   },
   "file_extension": ".py",
   "mimetype": "text/x-python",
   "name": "python",
   "nbconvert_exporter": "python",
   "pygments_lexer": "ipython3",
   "version": "3.7.3"
  }
 },
 "nbformat": 4,
 "nbformat_minor": 2
}
