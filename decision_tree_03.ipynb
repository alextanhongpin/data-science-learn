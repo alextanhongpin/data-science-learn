{
 "cells": [
  {
   "cell_type": "markdown",
   "metadata": {},
   "source": [
    "\n",
    "# Decision Tree\n",
    "\n",
    "Can be used to solve classification and regression problems. Has a tree-like structure, with each node denotes a test on an attribute, and each branch represents an outcome of the test, and each leaf node (terminal node) holds a class label.\n",
    "\n"
   ]
  },
  {
   "cell_type": "markdown",
   "metadata": {},
   "source": [
    "## Entropy\n",
    "\n",
    "Entropy is the measure of the randomness in the information being processed. The higher the entropy, the harder it is to draw any conclusions from that information. Therefore, lower entropy is preferred.\n",
    "\n",
    "\n",
    "$H(X) = - \\Sigma_{\\text{i=1}}^nP(x_i)log_bP(x_i)$"
   ]
  },
  {
   "cell_type": "markdown",
   "metadata": {},
   "source": [
    "## Information Gain\n",
    "\n",
    "Information gain is the amount of information gained about a random variable or signal from observing another random variable. It is considered as the difference between the entropy of parent node and weighted average entropy of child nodes.\n",
    "\n",
    "$IG(S, A) = H(S) - H(S, A)$\n",
    "\n",
    "Alternatively:\n",
    "\n",
    "$IG(S, A) = H(S) - \\Sigma^n_{i=0}P(x)*H(x)$"
   ]
  },
  {
   "cell_type": "markdown",
   "metadata": {},
   "source": [
    "## Gini Impurity\n",
    "\n",
    "Gini impurity is a measure of how often a randomly chosen element from the set would be incorrectly labeled if it was randomly labeled according to the distribution of labels in the dataset.\n",
    "\n",
    "$Gini(E) = 1 - \\Sigma^c_{j=1}p^2_j$\n",
    "\n",
    "Gini impurity is lower bounded by 0, with 0 occuring if the dataset contains only one class."
   ]
  },
  {
   "cell_type": "markdown",
   "metadata": {},
   "source": [
    "## Algorithms\n",
    "\n",
    "There are many algorithms to build a decision tree:\n",
    "    \n",
    "- __CART__ (Classification and Regression Trees) - This makes use of Gini impurity as metric.\n",
    "- __ID3__ (Iterative Dichotomiser 3) - This uses entropy and information gain as metric."
   ]
  },
  {
   "cell_type": "code",
   "execution_count": 32,
   "metadata": {},
   "outputs": [],
   "source": [
    "%matplotlib inline\n",
    "\n",
    "import numpy as np\n",
    "import math\n",
    "import unittest\n",
    "from collections import Counter\n",
    "\n",
    "import matplotlib.pyplot as plt"
   ]
  },
  {
   "cell_type": "code",
   "execution_count": 49,
   "metadata": {},
   "outputs": [],
   "source": [
    "def gini(t, f=0):\n",
    "    if t == 0 or f == 0: return 0\n",
    "    n = t + f\n",
    "    fn = lambda p: p ** 2\n",
    "    return 1 - fn(t / n) - fn(f / n)"
   ]
  },
  {
   "cell_type": "code",
   "execution_count": 34,
   "metadata": {},
   "outputs": [],
   "source": [
    "def entropy(t, f):\n",
    "    if t == 0 or f == 0: return 0\n",
    "    n = t + f\n",
    "    fn = lambda p: -p * math.log2(p)\n",
    "    return fn(t / n) + fn(f / n)"
   ]
  },
  {
   "cell_type": "code",
   "execution_count": 47,
   "metadata": {},
   "outputs": [
    {
     "data": {
      "text/plain": [
       "<matplotlib.legend.Legend at 0x10e9dcd30>"
      ]
     },
     "execution_count": 47,
     "metadata": {},
     "output_type": "execute_result"
    },
    {
     "data": {
      "image/png": "[encoded data removed]",
      "text/plain": [
       "<Figure size 432x288 with 1 Axes>"
      ]
     },
     "metadata": {
      "needs_background": "light"
     },
     "output_type": "display_data"
    }
   ],
   "source": [
    "X = list(range(11))\n",
    "y_gini = [gini(X_i, 10 - X_i) \n",
    "          for X_i in X]\n",
    "y_entropy = [entropy(X_i, 10 - X_i) \n",
    "             for X_i in X]\n",
    "\n",
    "plt.plot(X, y_gini, linestyle='-', label='gini')\n",
    "plt.plot(X, y_entropy, linestyle=':', label='entropy')\n",
    "plt.title('Gini vs. Entropy Chart')\n",
    "plt.legend()"
   ]
  },
  {
   "cell_type": "code",
   "execution_count": 3,
   "metadata": {},
   "outputs": [
    {
     "data": {
      "text/plain": [
       "16"
      ]
     },
     "execution_count": 3,
     "metadata": {},
     "output_type": "execute_result"
    }
   ],
   "source": [
    "data = np.array([\n",
    "    [4.8, 3.4, 1.9, 0.2, True],\n",
    "    [5.0, 3.0, 1.6, 0.2, True],\n",
    "    [5.0, 3.4, 1.6, 0.4, True],\n",
    "    [5.2, 3.5, 1.5, 0.2, True],\n",
    "    [5.2, 3.4, 1.4, 0.2, True],\n",
    "    [4.7, 3.2, 1.6, 0.2, True],\n",
    "    [4.8, 3.1, 1.6, 0.2, True],\n",
    "    [5.4, 3.4, 1.5, 0.4, True],\n",
    "    [7.0, 3.2, 4.7, 1.4, False],\n",
    "    [6.4, 3.2, 4.5, 1.5, False],\n",
    "    [6.9, 3.1, 4.9, 1.5, False],\n",
    "    [5.5, 2.3, 4.0, 1.3, False],\n",
    "    [6.5, 2.8, 4.6, 1.5, False],\n",
    "    [5.7, 2.8, 4.5, 1.3, False],\n",
    "    [6.3, 3.3, 4.7, 1.6, False],\n",
    "    [4.9, 2.4, 3.3, 1.0, False]\n",
    "])\n",
    "len(data)"
   ]
  },
  {
   "cell_type": "code",
   "execution_count": 4,
   "metadata": {},
   "outputs": [],
   "source": []
  },
  {
   "cell_type": "code",
   "execution_count": 5,
   "metadata": {},
   "outputs": [
    {
     "data": {
      "text/plain": [
       "1.0"
      ]
     },
     "execution_count": 5,
     "metadata": {},
     "output_type": "execute_result"
    }
   ],
   "source": [
    "t, f = Counter(data[:, -1]).values()\n",
    "target_entropy = entropy(t, f)\n",
    "target_entropy"
   ]
  },
  {
   "cell_type": "code",
   "execution_count": 9,
   "metadata": {},
   "outputs": [],
   "source": [
    "# Functions to select the values from the dataset.\n",
    "\n",
    "def target_a(n):\n",
    "    return 1 if n >= 5 else 0\n",
    "\n",
    "def target_b(n):\n",
    "    return 1 if n >= 3 else 0\n",
    "\n",
    "def target_c(n):\n",
    "    return 1 if n >= 4.2 else 0\n",
    "\n",
    "def target_d(n):\n",
    "    return 1 if n >= 1.4 else 0"
   ]
  },
  {
   "cell_type": "code",
   "execution_count": 13,
   "metadata": {},
   "outputs": [
    {
     "data": {
      "text/plain": [
       "array([[0., 1., 0., 0., 1.],\n",
       "       [1., 1., 0., 0., 1.],\n",
       "       [1., 1., 0., 0., 1.],\n",
       "       [1., 1., 0., 0., 1.],\n",
       "       [1., 1., 0., 0., 1.],\n",
       "       [0., 1., 0., 0., 1.],\n",
       "       [0., 1., 0., 0., 1.],\n",
       "       [1., 1., 0., 0., 1.],\n",
       "       [1., 1., 1., 1., 0.],\n",
       "       [1., 1., 1., 1., 0.],\n",
       "       [1., 1., 1., 1., 0.],\n",
       "       [1., 0., 0., 0., 0.],\n",
       "       [1., 0., 1., 1., 0.],\n",
       "       [1., 0., 1., 0., 0.],\n",
       "       [1., 1., 1., 1., 0.],\n",
       "       [0., 0., 0., 0., 0.]])"
      ]
     },
     "execution_count": 13,
     "metadata": {},
     "output_type": "execute_result"
    }
   ],
   "source": [
    "# Normalize it.\n",
    "dataset = np.array([[target_a(a), target_b(b), target_c(c), target_d(d), e] for [a,b,c,d,e] in data])\n",
    "dataset"
   ]
  },
  {
   "cell_type": "code",
   "execution_count": 18,
   "metadata": {},
   "outputs": [
    {
     "data": {
      "text/plain": [
       "(5, 7, 0.9798687566511528)"
      ]
     },
     "execution_count": 18,
     "metadata": {},
     "output_type": "execute_result"
    }
   ],
   "source": [
    "gte_five, lt_five = dataset[dataset[:, 0] == 1], dataset[dataset[:, 0] == 0]\n",
    "left, right = gte_five[gte_five[:, -1] == True], gte_five[gte_five[:, -1] == False]\n",
    "l, r = len(left), len(right)\n",
    "l, r, entropy(l, r)"
   ]
  },
  {
   "cell_type": "code",
   "execution_count": 20,
   "metadata": {},
   "outputs": [
    {
     "data": {
      "text/plain": [
       "(3, 1, 0.8112781244591328)"
      ]
     },
     "execution_count": 20,
     "metadata": {},
     "output_type": "execute_result"
    }
   ],
   "source": [
    "left, right = lt_five[lt_five[:, -1] == True], lt_five[lt_five[:, -1] == False]\n",
    "l, r = len(left), len(right)\n",
    "l, r, entropy(l, r)"
   ]
  },
  {
   "cell_type": "code",
   "execution_count": 15,
   "metadata": {},
   "outputs": [
    {
     "name": "stderr",
     "output_type": "stream",
     "text": [
      ".\n",
      "----------------------------------------------------------------------\n",
      "Ran 1 test in 0.006s\n",
      "\n",
      "OK\n"
     ]
    }
   ],
   "source": [
    "class TestDecisionTree(unittest.TestCase):\n",
    "    def test_entropy(self):\n",
    "        self.assertEqual(0, entropy(0, 5)) # Homogenous (only one class).\n",
    "        self.assertEqual(0, entropy(5, 0)) \n",
    "        self.assertEqual(1, entropy(5, 5)) # Equal distribution.\n",
    "\n",
    "if __name__ == '__main__':\n",
    "    unittest.main(argv=['exclude-first-argument'], exit=False)"
   ]
  },
  {
   "cell_type": "code",
   "execution_count": null,
   "metadata": {},
   "outputs": [],
   "source": []
  }
 ],
 "metadata": {
  "kernelspec": {
   "display_name": "Python 3",
   "language": "python",
   "name": "python3"
  },
  "language_info": {
   "codemirror_mode": {
    "name": "ipython",
    "version": 3
   },
   "file_extension": ".py",
   "mimetype": "text/x-python",
   "name": "python",
   "nbconvert_exporter": "python",
   "pygments_lexer": "ipython3",
   "version": "3.7.3"
  }
 },
 "nbformat": 4,
 "nbformat_minor": 2
}
