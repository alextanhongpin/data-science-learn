{
 "cells": [
  {
   "cell_type": "code",
   "execution_count": 87,
   "metadata": {},
   "outputs": [],
   "source": [
    "import math\n",
    "import numpy as np\n",
    "from collections import Counter\n",
    "from functools import partial, reduce\n",
    "\n",
    "# https://www.saedsayad.com/decision_tree.htm"
   ]
  },
  {
   "cell_type": "code",
   "execution_count": 89,
   "metadata": {},
   "outputs": [
    {
     "data": {
      "text/plain": [
       "array([['rainy', 'hot', 'high', 'false', 'no'],\n",
       "       ['rainy', 'hot', 'high', 'true', 'no']], dtype='<U8')"
      ]
     },
     "execution_count": 89,
     "metadata": {},
     "output_type": "execute_result"
    }
   ],
   "source": [
    "# Outlook, Temperature, Humidity, Windy, Play Golf.\n",
    "OUTLOOK = 0\n",
    "TEMPERATURE = 1\n",
    "HUMIDITY = 2\n",
    "WINDY = 3\n",
    "PLAY_GOLF = -1\n",
    "\n",
    "data = \"\"\"rainy hot high false no\n",
    "rainy hot high true no\n",
    "overcast hot high false yes\n",
    "sunny mild high false yes\n",
    "sunny cool normal false yes\n",
    "sunny cool normal true no\n",
    "overcast cool normal true yes\n",
    "rainy mild high false no\n",
    "rainy cool normal false yes\n",
    "sunny mild normal false yes\n",
    "rainy mild normal true yes\n",
    "overcast mild high true yes\n",
    "overcast hot normal false yes\n",
    "sunny mild high true no\"\"\"\n",
    "\n",
    "data = np.array(list((map(lambda s: s.split(' '), data.split('\\n')))))\n",
    "data[:2]"
   ]
  },
  {
   "cell_type": "code",
   "execution_count": 62,
   "metadata": {},
   "outputs": [
    {
     "data": {
      "text/plain": [
       "True"
      ]
     },
     "execution_count": 62,
     "metadata": {},
     "output_type": "execute_result"
    }
   ],
   "source": [
    "math.log(5) / math.log(2) == math.log2(5)"
   ]
  },
  {
   "cell_type": "code",
   "execution_count": 90,
   "metadata": {},
   "outputs": [],
   "source": [
    "## Entropy\n",
    "\n",
    "def entropy(classes):\n",
    "    # The entropy is completely homogenous (there are no split).\n",
    "    if len(classes) < 2: return 0\n",
    "    [t, f] = classes\n",
    "    \"\"\"Calculates the entropy given the number of true and false instances.\"\"\"\n",
    "    \n",
    "    if f == 0: return 0\n",
    "    n = t + f\n",
    "    fn = lambda p: -p * math.log2(p) \n",
    "    return fn(t / n) + fn(f / n)"
   ]
  },
  {
   "cell_type": "code",
   "execution_count": 132,
   "metadata": {},
   "outputs": [
    {
     "data": {
      "text/plain": [
       "dict_items([('no', 5), ('yes', 9)])"
      ]
     },
     "execution_count": 132,
     "metadata": {},
     "output_type": "execute_result"
    }
   ],
   "source": [
    "# Example using the frequency table of one attribute.\n",
    "# Partition by the last column \"Play Golf\" with the value \"yes\" and \"no\".\n",
    "# yes, no = partition_by(data, -1, 'yes')\n",
    "# len(yes), len(no)\n",
    "labels = Counter(data[:,-1])\n",
    "labels.items()"
   ]
  },
  {
   "cell_type": "code",
   "execution_count": 133,
   "metadata": {},
   "outputs": [
    {
     "data": {
      "text/plain": [
       "0.9402859586706311"
      ]
     },
     "execution_count": 133,
     "metadata": {},
     "output_type": "execute_result"
    }
   ],
   "source": [
    "# To find the entropy of the target, E(PlayGold) = E(9, 5).\n",
    "entropy_target = entropy(labels.values()) # entropy(9, 5), # 0.9402859586706311\n",
    "entropy_target"
   ]
  },
  {
   "cell_type": "code",
   "execution_count": 128,
   "metadata": {},
   "outputs": [],
   "source": [
    "def entropy_for(data, col):\n",
    "    total = 0.0\n",
    "    n = len(data)\n",
    "    \n",
    "    # Get the unique values for the given columns.\n",
    "    attributes = set(data[:, col])\n",
    "    \n",
    "    # For each values, find the number of rows that matches the attribute\n",
    "    # in order to count the target classes.\n",
    "    for attribute in attributes:\n",
    "        rows = data[data[:, col] == attribute]\n",
    "        labels = Counter(rows[:, -1])\n",
    "        print(f'{attribute:10s}: {labels}')\n",
    "        total += entropy(labels.values()) * len(rows) / n\n",
    "    return total"
   ]
  },
  {
   "cell_type": "code",
   "execution_count": 129,
   "metadata": {},
   "outputs": [
    {
     "name": "stdout",
     "output_type": "stream",
     "text": [
      "sunny     : Counter({'yes': 3, 'no': 2})\n",
      "overcast  : Counter({'yes': 4})\n",
      "rainy     : Counter({'no': 3, 'yes': 2})\n"
     ]
    },
    {
     "data": {
      "text/plain": [
       "0.6935361388961919"
      ]
     },
     "execution_count": 129,
     "metadata": {},
     "output_type": "execute_result"
    }
   ],
   "source": [
    "entropy_for(data, OUTLOOK) # 0.6935361388961919"
   ]
  },
  {
   "cell_type": "code",
   "execution_count": 130,
   "metadata": {},
   "outputs": [
    {
     "name": "stdout",
     "output_type": "stream",
     "text": [
      "high      : Counter({'no': 4, 'yes': 3})\n",
      "normal    : Counter({'yes': 6, 'no': 1})\n"
     ]
    },
    {
     "data": {
      "text/plain": [
       "0.7884504573082896"
      ]
     },
     "execution_count": 130,
     "metadata": {},
     "output_type": "execute_result"
    }
   ],
   "source": [
    "entropy_for(data, HUMIDITY) # 0.7884504573082896"
   ]
  },
  {
   "cell_type": "code",
   "execution_count": 131,
   "metadata": {},
   "outputs": [
    {
     "name": "stdout",
     "output_type": "stream",
     "text": [
      "mild      : Counter({'yes': 4, 'no': 2})\n",
      "cool      : Counter({'yes': 3, 'no': 1})\n",
      "hot       : Counter({'no': 2, 'yes': 2})\n"
     ]
    },
    {
     "data": {
      "text/plain": [
       "0.9110633930116764"
      ]
     },
     "execution_count": 131,
     "metadata": {},
     "output_type": "execute_result"
    }
   ],
   "source": [
    "entropy_for(data, TEMPERATURE) # 0.9110633930116763"
   ]
  },
  {
   "cell_type": "code",
   "execution_count": 122,
   "metadata": {},
   "outputs": [
    {
     "name": "stdout",
     "output_type": "stream",
     "text": [
      "false     : Counter({'yes': 6, 'no': 2})\n",
      "true      : Counter({'no': 3, 'yes': 3})\n"
     ]
    },
    {
     "data": {
      "text/plain": [
       "0.8921589282623617"
      ]
     },
     "execution_count": 122,
     "metadata": {},
     "output_type": "execute_result"
    }
   ],
   "source": [
    "entropy_for(data, WINDY) # 0.8921589282623617"
   ]
  },
  {
   "cell_type": "code",
   "execution_count": 123,
   "metadata": {},
   "outputs": [
    {
     "name": "stdout",
     "output_type": "stream",
     "text": [
      "no        : Counter({'no': 5})\n",
      "yes       : Counter({'yes': 9})\n"
     ]
    },
    {
     "data": {
      "text/plain": [
       "0.0"
      ]
     },
     "execution_count": 123,
     "metadata": {},
     "output_type": "execute_result"
    }
   ],
   "source": [
    "entropy_for(data, PLAY_GOLF) # The target entropy has to be calculated separately."
   ]
  },
  {
   "cell_type": "markdown",
   "metadata": {},
   "source": [
    "## Information Gain\n",
    "\n",
    "The information gained is based on the decrease in entropy after a dataset is split on an attribute. The branch is divided based on the attribute that returns the highest information gain. This means the attribute with the higher information gain is preferred."
   ]
  },
  {
   "cell_type": "code",
   "execution_count": null,
   "metadata": {},
   "outputs": [],
   "source": [
    "# Gain(T, X) = Entropy(T) - Entropy(T, X)\n",
    "# G(PlayGolf, Outlook) = E(PlayGolf) - E(PlayGolf, Outlook)\n",
    "entropy_target - entropy_for(data, OUTLOOK) # 0.24674981977443922"
   ]
  },
  {
   "cell_type": "code",
   "execution_count": null,
   "metadata": {},
   "outputs": [],
   "source": [
    "# Information Gain.\n",
    "# (('outlook', 0.24674981977443922),\n",
    "#  ('humidity', 0.15183550136234159),\n",
    "#  ('temperature', 0.02922256565895487),\n",
    "#  ('windy', 0.04812703040826949))\n",
    "labels = ['outlook', 'humidity', 'temperature', 'windy']\n",
    "for i in range(4):\n",
    "    print(labels[i],':', entropy_target - entropy_for(data, i))\n",
    "    print()"
   ]
  },
  {
   "cell_type": "markdown",
   "metadata": {},
   "source": [
    "## Gini Index\n",
    "\n",
    "Gini index is a metric to measure how often a randomly chosen element would be incorrectly identified. Attributes with a lower gini index is preferred."
   ]
  },
  {
   "cell_type": "code",
   "execution_count": null,
   "metadata": {},
   "outputs": [],
   "source": [
    "def gini(t, f=0):\n",
    "    if f == 0: return 0\n",
    "    fn = lambda p: p ** 2\n",
    "    n = t + f\n",
    "    return 1 - fn(t / n) - fn(f / n)"
   ]
  },
  {
   "cell_type": "code",
   "execution_count": null,
   "metadata": {},
   "outputs": [],
   "source": [
    "gini(5, 7)"
   ]
  },
  {
   "cell_type": "code",
   "execution_count": null,
   "metadata": {},
   "outputs": [],
   "source": [
    "def gini_for(data, col):\n",
    "    total = 0.0\n",
    "    n = len(data)\n",
    "    attributes = counter(data, col)\n",
    "    for attribute, _ in attributes:\n",
    "        o, _ = partition_by(data, col, attribute)\n",
    "        print(f'{attribute:10s}: {counter(o)}')\n",
    "        total += gini(*map(pick_value, counter(o))) * len(o) / n\n",
    "    return total"
   ]
  },
  {
   "cell_type": "code",
   "execution_count": 70,
   "metadata": {},
   "outputs": [
    {
     "ename": "NameError",
     "evalue": "name 'gini_for' is not defined",
     "output_type": "error",
     "traceback": [
      "\u001b[0;31m---------------------------------------------------------------------------\u001b[0m",
      "\u001b[0;31mNameError\u001b[0m                                 Traceback (most recent call last)",
      "\u001b[0;32m<ipython-input-70-f4d0d6cdb15d>\u001b[0m in \u001b[0;36m<module>\u001b[0;34m\u001b[0m\n\u001b[1;32m      1\u001b[0m \u001b[0;32mfor\u001b[0m \u001b[0mi\u001b[0m \u001b[0;32min\u001b[0m \u001b[0mrange\u001b[0m\u001b[0;34m(\u001b[0m\u001b[0;36m4\u001b[0m\u001b[0;34m)\u001b[0m\u001b[0;34m:\u001b[0m\u001b[0;34m\u001b[0m\u001b[0;34m\u001b[0m\u001b[0m\n\u001b[0;32m----> 2\u001b[0;31m     \u001b[0mprint\u001b[0m\u001b[0;34m(\u001b[0m\u001b[0mgini_for\u001b[0m\u001b[0;34m(\u001b[0m\u001b[0mdata\u001b[0m\u001b[0;34m,\u001b[0m \u001b[0mi\u001b[0m\u001b[0;34m)\u001b[0m\u001b[0;34m)\u001b[0m\u001b[0;34m\u001b[0m\u001b[0;34m\u001b[0m\u001b[0m\n\u001b[0m\u001b[1;32m      3\u001b[0m     \u001b[0mprint\u001b[0m\u001b[0;34m(\u001b[0m\u001b[0;34m)\u001b[0m\u001b[0;34m\u001b[0m\u001b[0;34m\u001b[0m\u001b[0m\n",
      "\u001b[0;31mNameError\u001b[0m: name 'gini_for' is not defined"
     ]
    }
   ],
   "source": [
    "for i in range(4):\n",
    "    print(gini_for(data, i))\n",
    "    print()"
   ]
  }
 ],
 "metadata": {
  "kernelspec": {
   "display_name": "Python 3",
   "language": "python",
   "name": "python3"
  },
  "language_info": {
   "codemirror_mode": {
    "name": "ipython",
    "version": 3
   },
   "file_extension": ".py",
   "mimetype": "text/x-python",
   "name": "python",
   "nbconvert_exporter": "python",
   "pygments_lexer": "ipython3",
   "version": "3.7.3"
  }
 },
 "nbformat": 4,
 "nbformat_minor": 2
}
