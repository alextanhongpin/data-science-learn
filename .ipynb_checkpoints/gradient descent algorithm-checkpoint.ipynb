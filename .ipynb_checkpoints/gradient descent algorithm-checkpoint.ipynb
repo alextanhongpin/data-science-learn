{
 "cells": [
  {
   "cell_type": "markdown",
   "metadata": {},
   "source": [
    "# Gradient descent\n",
    "\n",
    "- iterative optimization algorithm for finding the minimum of a function\n",
    "- the algorithm computes the slope (gradient) that is first order derivative of the function at the current point\n",
    "- move in the opposite direction of the slope increase from the current point by the computed amount\n",
    "\n",
    "\n",
    "## Types of Gradient Descent Algorithms\n",
    "\n",
    "- batch gradient descent\n",
    "- stochastic gradient descent\n",
    "- mini-batch gradient descent"
   ]
  },
  {
   "cell_type": "markdown",
   "metadata": {},
   "source": [
    "## Batch Gradient Descent\n",
    "\n",
    "Similar to stochastic gradient descent. But instead of updating the paramaters of the network after computing the loss of every training sample in the training set, the parameters are updated once that is after all the training examples have been passed through the network. \n",
    "\n",
    "Pros:\n",
    "- less oscillations and noisy steps taken towards the global minima of the loss function due to updating the parameters by computing the average of all the training samples rather than the values of a single step\n",
    "- it can benefit from the vectorization which increases the speed of processing all training samples together\n",
    "- it produces a more stable gradient descent convergence and stable error gradient that stochastic gradient descent\n",
    "- computationally more efficient as all the resources are not being used to process a single sampe rather are being used for all training samples\n",
    "\n",
    "Cons:\n",
    "- can lead to local minima and unlike stochastic gradient descent, no noisy steps are there to help get out of the local minima\n",
    "- the entire training set can be too large to process in the memory due to which additional memory might be needed\n",
    "- may take longer for processing all the samples as batch\n",
    "\n",
    "\n",
    "\n",
    "Code example:\n",
    "```python\n",
    "def gradient_descent(X, y, theta, alpha, num_iters):\n",
    "    m = y.size # Number of training examples.\n",
    "    for i in range(num_iters):\n",
    "        y_hat = np.dot(X, theta)\n",
    "        theta = theta - alpha * (1.0/m) * np.dot(X.T, y_hat - y)\n",
    "    return theta\n",
    "```"
   ]
  },
  {
   "cell_type": "markdown",
   "metadata": {},
   "source": [
    "## Stochastic Gradient Descent\n",
    "\n",
    "Pros:\n",
    "- it is easier to fit into memory due to a single training being processed by the network\n",
    "- computationally fast as only one sample is processed at a time\n",
    "- converges faster for larger dataset as it causes updates to the paramater more frequently\n",
    "\n",
    "Cons:\n",
    "- can be noisy due to frequent updates, and also lead the gradient descent into other directions\n",
    "- may take longer to achieve convergence to the minima of the loss function\n",
    "- loses the advantage of vectorized operations as it deals with only a single example at a time\n",
    "\n",
    "\n",
    "Code example:\n",
    "\n",
    "```python\n",
    "def SGD(cost_fn, theta0, alpha, num_iters):\n",
    "    \"\"\"\n",
    "    Arguments:\n",
    "    cost_fn -- the function to optimize, takes a single argument and yields the cost and gradient\n",
    "    theta0 -- the initial point to start SGD from\n",
    "    num_iters -- total iteration to run SGD\n",
    "    Return:\n",
    "    theta -- the parameter value after SGD finishes\n",
    "    \"\"\"\n",
    "    start_iter = 0\n",
    "    theta = theta0\n",
    "    for _ in range(start_iter + 1, num_iters + 1):\n",
    "        _, gradient = cost_fn(theta)\n",
    "        theta = theta - (alpha * gradient) # There is NO dot product.\n",
    "    return theta\n",
    "```"
   ]
  },
  {
   "cell_type": "markdown",
   "metadata": {},
   "source": [
    "## Mini Batch Gradient Descent: A compromise\n",
    "\n",
    "This is a mixture of both stochastic and batch gradient descent. The training set is divided into multiple groups called batches. Each batch has a number of training samples in it.\n",
    "\n",
    "At a time a single batch is passed through the network which computes the loss of every sample in the batch and uses their average to update the parameters of the neural network. \n",
    "\n",
    "For example, say the training set has 100 training examples which is divided into 5 batches with each batch containing 20 training examples. This means that the equation will be iterated over 5 times (the number of batches).\n",
    "\n",
    "Pros:\n",
    "- Easily fits into memory\n",
    "- computationally efficient\n",
    "- benefit from vectorization\n",
    "- if it stucks in local minimum, some noisy steps can lead the way out of them\n",
    "- average of the training samples produces stable error gradients and convergence."
   ]
  },
  {
   "cell_type": "code",
   "execution_count": 1,
   "metadata": {},
   "outputs": [],
   "source": [
    "def sum_of_squares(v):\n",
    "    \"\"\"Computes the sum of squared elements in v\"\"\"\n",
    "    return sum(v_i ** 2 for v_i in v)"
   ]
  },
  {
   "cell_type": "code",
   "execution_count": 6,
   "metadata": {},
   "outputs": [],
   "source": [
    "# delta y / delta x\n",
    "def difference_quotient(f, x, h):\n",
    "    return (f(x + h) - f(x)) / h"
   ]
  },
  {
   "cell_type": "code",
   "execution_count": 3,
   "metadata": {},
   "outputs": [],
   "source": [
    "def square(x):\n",
    "    return x * x"
   ]
  },
  {
   "cell_type": "code",
   "execution_count": 4,
   "metadata": {},
   "outputs": [],
   "source": [
    "def derivative(x):\n",
    "    return 2 * x"
   ]
  },
  {
   "cell_type": "code",
   "execution_count": 12,
   "metadata": {},
   "outputs": [],
   "source": [
    "from functools import partial\n",
    "derivative_estimate = partial(difference_quotient, square, h=0.00001)"
   ]
  },
  {
   "cell_type": "code",
   "execution_count": 14,
   "metadata": {},
   "outputs": [
    {
     "data": {
      "text/plain": [
       "<matplotlib.legend.Legend at 0x10d415470>"
      ]
     },
     "execution_count": 14,
     "metadata": {},
     "output_type": "execute_result"
    },
    {
     "data": {
      "image/png": "[encoded data removed]",
      "text/plain": [
       "<Figure size 432x288 with 1 Axes>"
      ]
     },
     "metadata": {
      "needs_background": "light"
     },
     "output_type": "display_data"
    }
   ],
   "source": [
    "import matplotlib.pyplot as plt\n",
    "\n",
    "x = range(-10, 10)\n",
    "plt.title('Actual Derivatives vs. Estimates')\n",
    "plt.plot(x, list(map(derivative, x)), 'rx', label='Actual')\n",
    "plt.plot(x, list(map(derivative_estimate, x)), 'b+', label='Estimate')\n",
    "plt.legend(loc=9)"
   ]
  },
  {
   "cell_type": "code",
   "execution_count": 15,
   "metadata": {},
   "outputs": [],
   "source": [
    "def partial_difference_quotient(f, v, i, h):\n",
    "    \"\"\"Compute the ith partial difference quotient of f at v\"\"\"\n",
    "    w = [v_j + (h if j == i else 0) # Add h to the ith element of v\n",
    "         for j, v_j in enumerate(v)]\n",
    "    return (f(w) - f(v)) / h"
   ]
  },
  {
   "cell_type": "code",
   "execution_count": 16,
   "metadata": {},
   "outputs": [],
   "source": [
    "def estimate_gradient(f, v, h=0.00001):\n",
    "    return [partial_difference_quotient(f, v, i, h)\n",
    "            for i, _ in enumerate(v)]"
   ]
  },
  {
   "cell_type": "code",
   "execution_count": 17,
   "metadata": {},
   "outputs": [],
   "source": [
    "def step(v, direction, step_size):\n",
    "    \"\"\"Move step_size in the direction from v\"\"\"\n",
    "    return [v_i + step_size * direction_i \n",
    "            for v_i, direction_i in zip(v, direction)]"
   ]
  },
  {
   "cell_type": "code",
   "execution_count": 22,
   "metadata": {},
   "outputs": [],
   "source": [
    "def sum_of_squares_gradient(v):\n",
    "    return [2 * v_i for v_i in v]"
   ]
  },
  {
   "cell_type": "code",
   "execution_count": 48,
   "metadata": {},
   "outputs": [],
   "source": [
    "import math\n",
    "def vector_subtract(v, w):\n",
    "    return [v_i - w_i\n",
    "            for v_i, w_i in zip(v, w)]\n",
    "\n",
    "def scalar_multiply(c, v):\n",
    "    return [c * v_i for v_i in v]\n",
    "\n",
    "def dot(v, w):\n",
    "    return sum(v_i * w_i for v_i, w_i in zip(v, w))\n",
    "\n",
    "def sum_of_squares(v):\n",
    "    return dot(v, v)\n",
    "\n",
    "def magnitude(v):\n",
    "    return math.sqrt(sum_of_squares(v))\n",
    "\n",
    "def distance(v, w):\n",
    "    return magnitude(vector_subtract(v, w))"
   ]
  },
  {
   "cell_type": "code",
   "execution_count": 32,
   "metadata": {},
   "outputs": [],
   "source": [
    "import random\n",
    "# Pick a random starting point.\n",
    "v = [random.randint(-10, 10) for i in range(3)]\n",
    "tolerance = 0.0000001\n",
    "while True:\n",
    "    gradient = sum_of_squares_gradient(v) # Compute the gradient at v.\n",
    "    next_v = step(v, gradient, -0.01) # Take a negative gradient step.\n",
    "    if distance(next_v, v) < tolerance: # Stop if we are converging.\n",
    "        break\n",
    "    v = next_v # Continue if we are not."
   ]
  },
  {
   "cell_type": "code",
   "execution_count": 33,
   "metadata": {},
   "outputs": [
    {
     "data": {
      "text/plain": [
       "[1.5964400041392797e-06, 2.39466000620892e-06, 3.991100010348203e-06]"
      ]
     },
     "execution_count": 33,
     "metadata": {},
     "output_type": "execute_result"
    }
   ],
   "source": [
    "v"
   ]
  },
  {
   "cell_type": "markdown",
   "metadata": {},
   "source": [
    "## Choosing the right step size\n",
    "\n",
    "- using a fixed step size\n",
    "- gradually shrinking the step size over time\n",
    "- at each step, choosing the step size that minimizes the value of the objective function"
   ]
  },
  {
   "cell_type": "code",
   "execution_count": 34,
   "metadata": {},
   "outputs": [],
   "source": [
    "step_sizes = [100, 10, 1, 0.1, 0.01, 0.001, 0.00001]"
   ]
  },
  {
   "cell_type": "code",
   "execution_count": 36,
   "metadata": {},
   "outputs": [],
   "source": [
    "def safe(f):\n",
    "    \"\"\"Return a new function that's the same as f, except that it outputs infinity whenever f produces an error\"\"\"\n",
    "    def safe_f(*args, **kwargs):\n",
    "        try:\n",
    "            return f(*args, **kwargs)\n",
    "        except:\n",
    "            return float('inf')\n",
    "    return safe_f"
   ]
  },
  {
   "cell_type": "code",
   "execution_count": 40,
   "metadata": {},
   "outputs": [],
   "source": [
    "def minimize_batch(target_fn, gradient_fn, theta_0, tolerance=0.000001):\n",
    "    \"\"\"Use gradient descent to find theta that minimizes target function.\"\"\"\n",
    "    step_sizes = [100, 10, 1, 0.1, 0.01, 0.001, 0.0001, 0.000001]\n",
    "    \n",
    "    theta = theta_0 # Set theta to initial value.\n",
    "    target_fn = safe(target_fn)\n",
    "    value = target_fn(theta)\n",
    "    \n",
    "    while True:\n",
    "        gradient = gradient_fn(theta)\n",
    "        next_thetas = [step(theta, gradient, -step_size) \n",
    "                       for step_size in step_sizes]\n",
    "        \n",
    "        # Choose the one that minimizes the error function.\n",
    "        next_theta = min(next_thetas, key=target_fn)\n",
    "        next_value = target_fn(next_theta)\n",
    "        \n",
    "        # Stop if we are converging.\n",
    "        if abs(value - next_value) < tolerance:\n",
    "            return theta\n",
    "        else:\n",
    "            theta, value = next_theta, next_value"
   ]
  },
  {
   "cell_type": "code",
   "execution_count": 41,
   "metadata": {},
   "outputs": [],
   "source": [
    "def negate(f):\n",
    "    \"\"\"Return a function that for any input x returns -f(x)\"\"\"\n",
    "    return lambda *args, **kwargs: -f(*args, **kwargs)"
   ]
  },
  {
   "cell_type": "code",
   "execution_count": 42,
   "metadata": {},
   "outputs": [],
   "source": [
    "def negate_all(f):\n",
    "    \"\"\"The same when f returns a list of numbers\"\"\"\n",
    "    return lambda *args, **kwargs: [-y for y in f(*args, **kwargs)]"
   ]
  },
  {
   "cell_type": "code",
   "execution_count": 43,
   "metadata": {},
   "outputs": [],
   "source": [
    "def maximize_batch(target_fn, gradient_fn, theta_0, tolerance=0.000001):\n",
    "    return minimize_batch(negate(target_fn),\n",
    "                          negate_all(gradient_fn), \n",
    "                          theta_0,\n",
    "                          tolerance)"
   ]
  },
  {
   "cell_type": "markdown",
   "metadata": {},
   "source": [
    "## Stochastic Gradient Descent"
   ]
  },
  {
   "cell_type": "code",
   "execution_count": 44,
   "metadata": {},
   "outputs": [],
   "source": [
    "def in_random_order(data):\n",
    "    \"\"\"Generator that returns the elements of data in random order\"\"\"\n",
    "    indexes = [i for i, _ in enumerate(data)] \n",
    "    random.shuffle(indexes)\n",
    "    for i in indexes:\n",
    "        yield data[i]"
   ]
  },
  {
   "cell_type": "code",
   "execution_count": 49,
   "metadata": {},
   "outputs": [],
   "source": [
    "def minimize_stochastic(target_fn, gradient_fn, x, y, theta_0, alpha=0.01):\n",
    "    data = zip(x, y)\n",
    "    theta = theta_0\n",
    "    alpha = alpha_0\n",
    "    min_theta, min_value = None, float('inf')\n",
    "    iterations_with_no_improvement = 0\n",
    "    \n",
    "    # If we ever go 100 iterations with no improvements, stop.\n",
    "    while iterations_with_no_improvements < 100:\n",
    "        value = sum(target_fn(x_i, y_i, theta) for x_i, y_i in data)\n",
    "        \n",
    "        if value < min_value:\n",
    "            # If we found a new minimum, remember it and go back \n",
    "            # to the original step size\n",
    "            min_theta, min_value = theta, value\n",
    "            iterations_with_no_improvements = 0\n",
    "            alpha = alpha_0\n",
    "        else:\n",
    "            # Otherwise we are not improving, so try shrinking the step size.\n",
    "            iterations_with_no_improvements += 1\n",
    "            alpha *= 0.9\n",
    "        \n",
    "        # And take a gradient step for each of the data points.\n",
    "        for x_i, y_i in in_random_order(data):\n",
    "            gradient_i = gradient_fn(x_i, y_i, theta)\n",
    "            theta = vector_subtract(theta, scalar_multiply(alpha, gradient_i))\n",
    "    return min_theta"
   ]
  },
  {
   "cell_type": "code",
   "execution_count": 2,
   "metadata": {},
   "outputs": [
    {
     "ename": "SyntaxError",
     "evalue": "invalid syntax (<ipython-input-2-13cc8a07d8e6>, line 3)",
     "output_type": "error",
     "traceback": [
      "\u001b[0;36m  File \u001b[0;32m\"<ipython-input-2-13cc8a07d8e6>\"\u001b[0;36m, line \u001b[0;32m3\u001b[0m\n\u001b[0;31m    negate_all(gradient_fn),\u001b[0m\n\u001b[0m             ^\u001b[0m\n\u001b[0;31mSyntaxError\u001b[0m\u001b[0;31m:\u001b[0m invalid syntax\n"
     ]
    }
   ],
   "source": [
    "def maximize_stochastic(target_fn, gradient_fn, x, y, theta_0, alpha_0=0.01):\n",
    "    return minimize_stochastic(negate(target_fn)\n",
    "                               negate_all(gradient_fn),\n",
    "                               x, y, theta_0, alpha_0)"
   ]
  },
  {
   "cell_type": "markdown",
   "metadata": {},
   "source": [
    "# Implementing Stochastic Gradient Descent From Scratch\n",
    "\n",
    "https://machinelearningmastery.com/implement-linear-regression-stochastic-gradient-descent-scratch-python/"
   ]
  },
  {
   "cell_type": "code",
   "execution_count": 3,
   "metadata": {},
   "outputs": [],
   "source": [
    "from collections import namedtuple\n",
    "\n",
    "data = []\n",
    "labels = []\n",
    "\n",
    "with open('./data/wine_quality/winequality-white.csv') as f:\n",
    "    header = f.readline()\n",
    "    for col in header.split(';'):  # Split by \";\"\n",
    "        col = col.strip()          # Remove new lines.\n",
    "        col = col.replace('\"', '') # Remove quotations.\n",
    "        col = col.split(' ')       # Split by whitespace.\n",
    "        col = '_'.join(col)        # Join by underscore.\n",
    "        labels.append(col)         # Append to the labels.\n",
    "\n",
    "    Wine = namedtuple('Wine', labels) # Create a new namedtuple from the labels.\n",
    "    for line in f.readlines():\n",
    "        row = line.split(';')\n",
    "        row = [float(col.strip()) \n",
    "               for col in row] # Convert cols to float.\n",
    "        wine = Wine._make(row)\n",
    "        data.append(wine)"
   ]
  },
  {
   "cell_type": "code",
   "execution_count": 4,
   "metadata": {},
   "outputs": [
    {
     "data": {
      "text/plain": [
       "['fixed_acidity',\n",
       " 'volatile_acidity',\n",
       " 'citric_acid',\n",
       " 'residual_sugar',\n",
       " 'chlorides',\n",
       " 'free_sulfur_dioxide',\n",
       " 'total_sulfur_dioxide',\n",
       " 'density',\n",
       " 'pH',\n",
       " 'sulphates',\n",
       " 'alcohol',\n",
       " 'quality']"
      ]
     },
     "execution_count": 4,
     "metadata": {},
     "output_type": "execute_result"
    }
   ],
   "source": [
    "labels"
   ]
  },
  {
   "cell_type": "code",
   "execution_count": 5,
   "metadata": {},
   "outputs": [
    {
     "data": {
      "text/plain": [
       "Wine(fixed_acidity=7.0, volatile_acidity=0.27, citric_acid=0.36, residual_sugar=20.7, chlorides=0.045, free_sulfur_dioxide=45.0, total_sulfur_dioxide=170.0, density=1.001, pH=3.0, sulphates=0.45, alcohol=8.8, quality=6.0)"
      ]
     },
     "execution_count": 5,
     "metadata": {},
     "output_type": "execute_result"
    }
   ],
   "source": [
    "data[0]"
   ]
  },
  {
   "cell_type": "code",
   "execution_count": 6,
   "metadata": {},
   "outputs": [
    {
     "data": {
      "text/plain": [
       "12"
      ]
     },
     "execution_count": 6,
     "metadata": {},
     "output_type": "execute_result"
    }
   ],
   "source": [
    "len(data[0])"
   ]
  },
  {
   "cell_type": "code",
   "execution_count": 7,
   "metadata": {},
   "outputs": [
    {
     "data": {
      "text/plain": [
       "4898"
      ]
     },
     "execution_count": 7,
     "metadata": {},
     "output_type": "execute_result"
    }
   ],
   "source": [
    "len(data)"
   ]
  },
  {
   "cell_type": "code",
   "execution_count": 8,
   "metadata": {},
   "outputs": [
    {
     "data": {
      "text/plain": [
       "[7.0, 0.27, 0.36, 20.7, 0.045, 45.0, 170.0, 1.001, 3.0, 0.45, 8.8, 6.0]"
      ]
     },
     "execution_count": 8,
     "metadata": {},
     "output_type": "execute_result"
    }
   ],
   "source": [
    "[key for key in data[0]]"
   ]
  },
  {
   "cell_type": "code",
   "execution_count": 9,
   "metadata": {},
   "outputs": [],
   "source": [
    "def predict(row, coefficients):\n",
    "    # Make predictions with coefficients.\n",
    "    y_hat = coefficients[0]\n",
    "    for i in range(len(row) - 1):\n",
    "        y_hat += coefficients[i + 1] * row[i]\n",
    "    return y_hat"
   ]
  },
  {
   "cell_type": "code",
   "execution_count": 10,
   "metadata": {},
   "outputs": [
    {
     "name": "stdout",
     "output_type": "stream",
     "text": [
      "expected 1.000, predicted: 1.200\n",
      "expected 3.000, predicted: 2.000\n",
      "expected 3.000, predicted: 3.600\n",
      "expected 2.000, predicted: 2.800\n",
      "expected 5.000, predicted: 4.400\n"
     ]
    }
   ],
   "source": [
    "dataset = [[1, 1], [2, 3], [4, 3], [3, 2], [5, 5]]\n",
    "coef = [0.4, 0.8]\n",
    "\n",
    "for row in dataset:\n",
    "    y_hat = predict(row, coef)\n",
    "    print(f'expected {row[-1]:.3f}, predicted: {y_hat:.3f}')"
   ]
  },
  {
   "cell_type": "code",
   "execution_count": 11,
   "metadata": {},
   "outputs": [],
   "source": [
    "# Estimate linear regression coefficients using stochastic gradient descent.\n",
    "\n",
    "# https://github.com/google/styleguide/blob/gh-pages/pyguide.md#38-comments-and-docstrings\n",
    "\n",
    "def stochastic_gradient_descent(train, a, epoch):\n",
    "    \"\"\"\n",
    "    Parameters\n",
    "    ----------\n",
    "    train : list str\n",
    "        The training dataset\n",
    "    a : int\n",
    "        The learning rate\n",
    "    epoch : int\n",
    "        The number of iterations to train the data\n",
    "    \n",
    "    Returns\n",
    "    -------\n",
    "    coef : list int\n",
    "        The coefficient\n",
    "    \"\"\"\n",
    "    coef = [0.0 for i in range(len(train[0]))]\n",
    "    for i in range(epoch):\n",
    "        sum_error = 0\n",
    "        for row in train:\n",
    "            y_hat = predict(row, coef) # Predict the y_i value.\n",
    "            error = y_hat - row[-1]    # Error is the difference between predicted and actual value.\n",
    "            sum_error += error ** 2    # Sum square error.\n",
    "            coef[0] = coef[0] - a * error\n",
    "            for j in range(len(row) - 1):\n",
    "                coef[j + 1] = coef[j + 1] - a * error * row[j]\n",
    "        print(f'>epoch={i} a={a:.3f} error={sum_error:.3f}')\n",
    "    return coef"
   ]
  },
  {
   "cell_type": "code",
   "execution_count": 12,
   "metadata": {},
   "outputs": [
    {
     "name": "stdout",
     "output_type": "stream",
     "text": [
      ">epoch=0 a=0.001 error=46.236\n",
      ">epoch=1 a=0.001 error=41.305\n",
      ">epoch=2 a=0.001 error=36.930\n",
      ">epoch=3 a=0.001 error=33.047\n",
      ">epoch=4 a=0.001 error=29.601\n",
      ">epoch=5 a=0.001 error=26.543\n",
      ">epoch=6 a=0.001 error=23.830\n",
      ">epoch=7 a=0.001 error=21.422\n",
      ">epoch=8 a=0.001 error=19.285\n",
      ">epoch=9 a=0.001 error=17.389\n",
      ">epoch=10 a=0.001 error=15.706\n",
      ">epoch=11 a=0.001 error=14.213\n",
      ">epoch=12 a=0.001 error=12.888\n",
      ">epoch=13 a=0.001 error=11.712\n",
      ">epoch=14 a=0.001 error=10.668\n",
      ">epoch=15 a=0.001 error=9.742\n",
      ">epoch=16 a=0.001 error=8.921\n",
      ">epoch=17 a=0.001 error=8.191\n",
      ">epoch=18 a=0.001 error=7.544\n",
      ">epoch=19 a=0.001 error=6.970\n",
      ">epoch=20 a=0.001 error=6.461\n",
      ">epoch=21 a=0.001 error=6.009\n",
      ">epoch=22 a=0.001 error=5.607\n",
      ">epoch=23 a=0.001 error=5.251\n",
      ">epoch=24 a=0.001 error=4.935\n",
      ">epoch=25 a=0.001 error=4.655\n",
      ">epoch=26 a=0.001 error=4.406\n",
      ">epoch=27 a=0.001 error=4.186\n",
      ">epoch=28 a=0.001 error=3.990\n",
      ">epoch=29 a=0.001 error=3.816\n",
      ">epoch=30 a=0.001 error=3.662\n",
      ">epoch=31 a=0.001 error=3.525\n",
      ">epoch=32 a=0.001 error=3.404\n",
      ">epoch=33 a=0.001 error=3.296\n",
      ">epoch=34 a=0.001 error=3.200\n",
      ">epoch=35 a=0.001 error=3.115\n",
      ">epoch=36 a=0.001 error=3.040\n",
      ">epoch=37 a=0.001 error=2.973\n",
      ">epoch=38 a=0.001 error=2.914\n",
      ">epoch=39 a=0.001 error=2.862\n",
      ">epoch=40 a=0.001 error=2.815\n",
      ">epoch=41 a=0.001 error=2.773\n",
      ">epoch=42 a=0.001 error=2.737\n",
      ">epoch=43 a=0.001 error=2.704\n",
      ">epoch=44 a=0.001 error=2.675\n",
      ">epoch=45 a=0.001 error=2.650\n",
      ">epoch=46 a=0.001 error=2.627\n",
      ">epoch=47 a=0.001 error=2.607\n",
      ">epoch=48 a=0.001 error=2.589\n",
      ">epoch=49 a=0.001 error=2.573\n"
     ]
    },
    {
     "data": {
      "text/plain": [
       "[0.22998234937311363, 0.8017220304137576]"
      ]
     },
     "execution_count": 12,
     "metadata": {},
     "output_type": "execute_result"
    }
   ],
   "source": [
    "# Calculate coefficients.\n",
    "a = 0.001\n",
    "epoch = 50\n",
    "coef = stochastic_gradient_descent(dataset, a, epoch)\n",
    "coef"
   ]
  },
  {
   "cell_type": "code",
   "execution_count": 14,
   "metadata": {},
   "outputs": [],
   "source": [
    "# https://machinelearningmastery.com/implement-linear-regression-stochastic-gradient-descent-scratch-python/\n",
    "def min_max(data):\n",
    "    \"\"\"Find the min and max values for each columns.\"\"\"\n",
    "    minmax = []\n",
    "    cols = len(data[0])\n",
    "    for i in range(cols):\n",
    "        values = [row[i] for row in data] # The column values.\n",
    "        min_val = min(values)\n",
    "        max_val = max(values)\n",
    "        minmax.append((min_val, max_val))\n",
    "    return minmax"
   ]
  },
  {
   "cell_type": "code",
   "execution_count": 22,
   "metadata": {},
   "outputs": [],
   "source": [
    "def normalize(data, minmax):\n",
    "    \"\"\"Rescale columns to the range 0-1.\"\"\"\n",
    "    normalized = []\n",
    "    for row in data:\n",
    "        cols = []\n",
    "        for j in range(len(row)):\n",
    "            num = row[j] - minmax[j][0]\n",
    "            den = minmax[j][1] - minmax[j][0]\n",
    "            cols.append(num / den) \n",
    "        normalized.append(Wine._make(cols))\n",
    "    return normalized"
   ]
  },
  {
   "cell_type": "code",
   "execution_count": 32,
   "metadata": {},
   "outputs": [],
   "source": [
    "import random\n",
    "\n",
    "random.seed(1)\n",
    "\n",
    "def cross_validation_split(data, n_folds):\n",
    "    \"\"\"Split a dataset into k folds.\"\"\"\n",
    "    folds = []\n",
    "    copy = data.copy() # Make a copy so that the original list is not affected.\n",
    "    fold_size = len(data) // n_folds\n",
    "    for i in range(n_folds):\n",
    "        fold = []\n",
    "        while len(fold) < fold_size:\n",
    "            index = random.randrange(len(copy)) # Select a random row.\n",
    "            fold.append(copy.pop(index)) # Add to the current fold (bucket).\n",
    "        folds.append(fold) # Add the fold to the list of folds.\n",
    "    return folds"
   ]
  },
  {
   "cell_type": "code",
   "execution_count": 33,
   "metadata": {},
   "outputs": [],
   "source": [
    "import math\n",
    "\n",
    "def root_mean_squared_error(actual, predicted):\n",
    "    sum_error = 0.0\n",
    "    for i in range(len(actual)):\n",
    "        prediction_error = predicted[i] - actual[i]\n",
    "        sum_error += (prediction_error ** 2)\n",
    "    mean_error = sum_error / float(len(actual))\n",
    "    return math.sqrt(mean_error)"
   ]
  },
  {
   "cell_type": "code",
   "execution_count": 34,
   "metadata": {},
   "outputs": [],
   "source": [
    "def evaluate_algorithm(data, algorithm, n_folds, *args):\n",
    "    \"\"\"Evaluate an algorithm using a cross validation split.\"\"\"\n",
    "    folds = cross_validation_split(data, n_folds)\n",
    "    scores = []\n",
    "    for fold in folds:\n",
    "        train = folds.copy()\n",
    "        train.remove(fold)\n",
    "        train = sum(train, [])\n",
    "        test = []\n",
    "        for row in fold:\n",
    "            test.append(row)\n",
    "        predicted = algorithm(train, test, *args)\n",
    "        actual = [row[-1] for row in fold]\n",
    "        rmse = root_mean_squared_error(actual, predicted)\n",
    "        scores.append(rmse)\n",
    "    return scores"
   ]
  },
  {
   "cell_type": "code",
   "execution_count": 35,
   "metadata": {},
   "outputs": [],
   "source": [
    "def linear_regression_sgd(train, test, a, epoch):\n",
    "    predictions = []\n",
    "    coef = stochastic_gradient_descent(train, a, epoch)\n",
    "    for row in test:\n",
    "        y_hat = predict(row, coef)\n",
    "        predictions.append(y_hat)\n",
    "    return predictions"
   ]
  },
  {
   "cell_type": "code",
   "execution_count": 36,
   "metadata": {},
   "outputs": [
    {
     "name": "stdout",
     "output_type": "stream",
     "text": [
      ">epoch=0 a=0.010 error=79.062\n",
      ">epoch=1 a=0.010 error=67.512\n",
      ">epoch=2 a=0.010 error=65.919\n",
      ">epoch=3 a=0.010 error=65.037\n",
      ">epoch=4 a=0.010 error=64.511\n",
      ">epoch=5 a=0.010 error=64.185\n",
      ">epoch=6 a=0.010 error=63.975\n",
      ">epoch=7 a=0.010 error=63.836\n",
      ">epoch=8 a=0.010 error=63.742\n",
      ">epoch=9 a=0.010 error=63.676\n",
      ">epoch=10 a=0.010 error=63.628\n",
      ">epoch=11 a=0.010 error=63.593\n",
      ">epoch=12 a=0.010 error=63.566\n",
      ">epoch=13 a=0.010 error=63.544\n",
      ">epoch=14 a=0.010 error=63.527\n",
      ">epoch=15 a=0.010 error=63.512\n",
      ">epoch=16 a=0.010 error=63.500\n",
      ">epoch=17 a=0.010 error=63.489\n",
      ">epoch=18 a=0.010 error=63.479\n",
      ">epoch=19 a=0.010 error=63.469\n",
      ">epoch=20 a=0.010 error=63.461\n",
      ">epoch=21 a=0.010 error=63.452\n",
      ">epoch=22 a=0.010 error=63.444\n",
      ">epoch=23 a=0.010 error=63.437\n",
      ">epoch=24 a=0.010 error=63.430\n",
      ">epoch=25 a=0.010 error=63.423\n",
      ">epoch=26 a=0.010 error=63.416\n",
      ">epoch=27 a=0.010 error=63.409\n",
      ">epoch=28 a=0.010 error=63.402\n",
      ">epoch=29 a=0.010 error=63.396\n",
      ">epoch=30 a=0.010 error=63.390\n",
      ">epoch=31 a=0.010 error=63.383\n",
      ">epoch=32 a=0.010 error=63.377\n",
      ">epoch=33 a=0.010 error=63.371\n",
      ">epoch=34 a=0.010 error=63.365\n",
      ">epoch=35 a=0.010 error=63.359\n",
      ">epoch=36 a=0.010 error=63.353\n",
      ">epoch=37 a=0.010 error=63.348\n",
      ">epoch=38 a=0.010 error=63.342\n",
      ">epoch=39 a=0.010 error=63.336\n",
      ">epoch=40 a=0.010 error=63.331\n",
      ">epoch=41 a=0.010 error=63.325\n",
      ">epoch=42 a=0.010 error=63.320\n",
      ">epoch=43 a=0.010 error=63.314\n",
      ">epoch=44 a=0.010 error=63.309\n",
      ">epoch=45 a=0.010 error=63.304\n",
      ">epoch=46 a=0.010 error=63.298\n",
      ">epoch=47 a=0.010 error=63.293\n",
      ">epoch=48 a=0.010 error=63.288\n",
      ">epoch=49 a=0.010 error=63.283\n",
      ">epoch=0 a=0.010 error=78.440\n",
      ">epoch=1 a=0.010 error=65.663\n",
      ">epoch=2 a=0.010 error=64.090\n",
      ">epoch=3 a=0.010 error=63.227\n",
      ">epoch=4 a=0.010 error=62.717\n",
      ">epoch=5 a=0.010 error=62.404\n",
      ">epoch=6 a=0.010 error=62.205\n",
      ">epoch=7 a=0.010 error=62.074\n",
      ">epoch=8 a=0.010 error=61.986\n",
      ">epoch=9 a=0.010 error=61.924\n",
      ">epoch=10 a=0.010 error=61.880\n",
      ">epoch=11 a=0.010 error=61.848\n",
      ">epoch=12 a=0.010 error=61.823\n",
      ">epoch=13 a=0.010 error=61.804\n",
      ">epoch=14 a=0.010 error=61.788\n",
      ">epoch=15 a=0.010 error=61.775\n",
      ">epoch=16 a=0.010 error=61.763\n",
      ">epoch=17 a=0.010 error=61.753\n",
      ">epoch=18 a=0.010 error=61.744\n",
      ">epoch=19 a=0.010 error=61.735\n",
      ">epoch=20 a=0.010 error=61.728\n",
      ">epoch=21 a=0.010 error=61.720\n",
      ">epoch=22 a=0.010 error=61.713\n",
      ">epoch=23 a=0.010 error=61.706\n",
      ">epoch=24 a=0.010 error=61.699\n",
      ">epoch=25 a=0.010 error=61.692\n",
      ">epoch=26 a=0.010 error=61.686\n",
      ">epoch=27 a=0.010 error=61.679\n",
      ">epoch=28 a=0.010 error=61.673\n",
      ">epoch=29 a=0.010 error=61.667\n",
      ">epoch=30 a=0.010 error=61.661\n",
      ">epoch=31 a=0.010 error=61.655\n",
      ">epoch=32 a=0.010 error=61.649\n",
      ">epoch=33 a=0.010 error=61.643\n",
      ">epoch=34 a=0.010 error=61.637\n",
      ">epoch=35 a=0.010 error=61.631\n",
      ">epoch=36 a=0.010 error=61.626\n",
      ">epoch=37 a=0.010 error=61.620\n",
      ">epoch=38 a=0.010 error=61.614\n",
      ">epoch=39 a=0.010 error=61.609\n",
      ">epoch=40 a=0.010 error=61.603\n",
      ">epoch=41 a=0.010 error=61.597\n",
      ">epoch=42 a=0.010 error=61.592\n",
      ">epoch=43 a=0.010 error=61.586\n",
      ">epoch=44 a=0.010 error=61.581\n",
      ">epoch=45 a=0.010 error=61.576\n",
      ">epoch=46 a=0.010 error=61.570\n",
      ">epoch=47 a=0.010 error=61.565\n",
      ">epoch=48 a=0.010 error=61.560\n",
      ">epoch=49 a=0.010 error=61.554\n",
      ">epoch=0 a=0.010 error=79.834\n",
      ">epoch=1 a=0.010 error=66.690\n",
      ">epoch=2 a=0.010 error=64.987\n",
      ">epoch=3 a=0.010 error=64.069\n",
      ">epoch=4 a=0.010 error=63.535\n",
      ">epoch=5 a=0.010 error=63.211\n",
      ">epoch=6 a=0.010 error=63.008\n",
      ">epoch=7 a=0.010 error=62.877\n",
      ">epoch=8 a=0.010 error=62.790\n",
      ">epoch=9 a=0.010 error=62.731\n",
      ">epoch=10 a=0.010 error=62.690\n",
      ">epoch=11 a=0.010 error=62.660\n",
      ">epoch=12 a=0.010 error=62.638\n",
      ">epoch=13 a=0.010 error=62.622\n",
      ">epoch=14 a=0.010 error=62.609\n",
      ">epoch=15 a=0.010 error=62.598\n",
      ">epoch=16 a=0.010 error=62.590\n",
      ">epoch=17 a=0.010 error=62.582\n",
      ">epoch=18 a=0.010 error=62.575\n",
      ">epoch=19 a=0.010 error=62.569\n",
      ">epoch=20 a=0.010 error=62.563\n",
      ">epoch=21 a=0.010 error=62.558\n",
      ">epoch=22 a=0.010 error=62.552\n",
      ">epoch=23 a=0.010 error=62.547\n",
      ">epoch=24 a=0.010 error=62.543\n",
      ">epoch=25 a=0.010 error=62.538\n",
      ">epoch=26 a=0.010 error=62.533\n",
      ">epoch=27 a=0.010 error=62.529\n",
      ">epoch=28 a=0.010 error=62.524\n",
      ">epoch=29 a=0.010 error=62.520\n",
      ">epoch=30 a=0.010 error=62.516\n",
      ">epoch=31 a=0.010 error=62.511\n",
      ">epoch=32 a=0.010 error=62.507\n",
      ">epoch=33 a=0.010 error=62.503\n",
      ">epoch=34 a=0.010 error=62.499\n",
      ">epoch=35 a=0.010 error=62.495\n",
      ">epoch=36 a=0.010 error=62.491\n",
      ">epoch=37 a=0.010 error=62.487\n",
      ">epoch=38 a=0.010 error=62.483\n",
      ">epoch=39 a=0.010 error=62.479\n",
      ">epoch=40 a=0.010 error=62.475\n",
      ">epoch=41 a=0.010 error=62.471\n",
      ">epoch=42 a=0.010 error=62.467\n",
      ">epoch=43 a=0.010 error=62.463\n",
      ">epoch=44 a=0.010 error=62.460\n",
      ">epoch=45 a=0.010 error=62.456\n",
      ">epoch=46 a=0.010 error=62.452\n",
      ">epoch=47 a=0.010 error=62.448\n",
      ">epoch=48 a=0.010 error=62.445\n",
      ">epoch=49 a=0.010 error=62.441\n",
      ">epoch=0 a=0.010 error=79.207\n",
      ">epoch=1 a=0.010 error=66.076\n",
      ">epoch=2 a=0.010 error=64.391\n",
      ">epoch=3 a=0.010 error=63.483\n",
      ">epoch=4 a=0.010 error=62.954\n",
      ">epoch=5 a=0.010 error=62.634\n",
      ">epoch=6 a=0.010 error=62.434\n",
      ">epoch=7 a=0.010 error=62.304\n",
      ">epoch=8 a=0.010 error=62.217\n",
      ">epoch=9 a=0.010 error=62.157\n",
      ">epoch=10 a=0.010 error=62.115\n",
      ">epoch=11 a=0.010 error=62.084\n",
      ">epoch=12 a=0.010 error=62.061\n",
      ">epoch=13 a=0.010 error=62.044\n",
      ">epoch=14 a=0.010 error=62.030\n",
      ">epoch=15 a=0.010 error=62.018\n",
      ">epoch=16 a=0.010 error=62.008\n",
      ">epoch=17 a=0.010 error=62.000\n",
      ">epoch=18 a=0.010 error=61.992\n",
      ">epoch=19 a=0.010 error=61.985\n",
      ">epoch=20 a=0.010 error=61.978\n",
      ">epoch=21 a=0.010 error=61.972\n",
      ">epoch=22 a=0.010 error=61.966\n",
      ">epoch=23 a=0.010 error=61.961\n",
      ">epoch=24 a=0.010 error=61.956\n",
      ">epoch=25 a=0.010 error=61.950\n",
      ">epoch=26 a=0.010 error=61.945\n",
      ">epoch=27 a=0.010 error=61.940\n",
      ">epoch=28 a=0.010 error=61.935\n",
      ">epoch=29 a=0.010 error=61.931\n",
      ">epoch=30 a=0.010 error=61.926\n",
      ">epoch=31 a=0.010 error=61.921\n",
      ">epoch=32 a=0.010 error=61.917\n",
      ">epoch=33 a=0.010 error=61.912\n",
      ">epoch=34 a=0.010 error=61.908\n",
      ">epoch=35 a=0.010 error=61.903\n",
      ">epoch=36 a=0.010 error=61.899\n",
      ">epoch=37 a=0.010 error=61.895\n",
      ">epoch=38 a=0.010 error=61.890\n",
      ">epoch=39 a=0.010 error=61.886\n",
      ">epoch=40 a=0.010 error=61.882\n",
      ">epoch=41 a=0.010 error=61.878\n",
      ">epoch=42 a=0.010 error=61.874\n",
      ">epoch=43 a=0.010 error=61.870\n",
      ">epoch=44 a=0.010 error=61.866\n",
      ">epoch=45 a=0.010 error=61.862\n",
      ">epoch=46 a=0.010 error=61.858\n",
      ">epoch=47 a=0.010 error=61.854\n",
      ">epoch=48 a=0.010 error=61.850\n",
      ">epoch=49 a=0.010 error=61.846\n",
      ">epoch=0 a=0.010 error=80.522\n",
      ">epoch=1 a=0.010 error=67.386\n",
      ">epoch=2 a=0.010 error=65.629\n",
      ">epoch=3 a=0.010 error=64.670\n",
      ">epoch=4 a=0.010 error=64.107\n",
      ">epoch=5 a=0.010 error=63.765\n",
      ">epoch=6 a=0.010 error=63.549\n",
      ">epoch=7 a=0.010 error=63.409\n",
      ">epoch=8 a=0.010 error=63.315\n",
      ">epoch=9 a=0.010 error=63.250\n",
      ">epoch=10 a=0.010 error=63.204\n",
      ">epoch=11 a=0.010 error=63.170\n",
      ">epoch=12 a=0.010 error=63.144\n",
      ">epoch=13 a=0.010 error=63.124\n",
      ">epoch=14 a=0.010 error=63.107\n",
      ">epoch=15 a=0.010 error=63.094\n",
      ">epoch=16 a=0.010 error=63.082\n",
      ">epoch=17 a=0.010 error=63.072\n",
      ">epoch=18 a=0.010 error=63.063\n",
      ">epoch=19 a=0.010 error=63.054\n",
      ">epoch=20 a=0.010 error=63.046\n",
      ">epoch=21 a=0.010 error=63.039\n",
      ">epoch=22 a=0.010 error=63.032\n",
      ">epoch=23 a=0.010 error=63.026\n",
      ">epoch=24 a=0.010 error=63.020\n",
      ">epoch=25 a=0.010 error=63.014\n",
      ">epoch=26 a=0.010 error=63.008\n",
      ">epoch=27 a=0.010 error=63.002\n",
      ">epoch=28 a=0.010 error=62.997\n",
      ">epoch=29 a=0.010 error=62.991\n",
      ">epoch=30 a=0.010 error=62.986\n",
      ">epoch=31 a=0.010 error=62.981\n",
      ">epoch=32 a=0.010 error=62.976\n",
      ">epoch=33 a=0.010 error=62.971\n",
      ">epoch=34 a=0.010 error=62.966\n",
      ">epoch=35 a=0.010 error=62.961\n",
      ">epoch=36 a=0.010 error=62.957\n",
      ">epoch=37 a=0.010 error=62.952\n",
      ">epoch=38 a=0.010 error=62.948\n",
      ">epoch=39 a=0.010 error=62.943\n",
      ">epoch=40 a=0.010 error=62.939\n",
      ">epoch=41 a=0.010 error=62.934\n",
      ">epoch=42 a=0.010 error=62.930\n",
      ">epoch=43 a=0.010 error=62.926\n",
      ">epoch=44 a=0.010 error=62.921\n",
      ">epoch=45 a=0.010 error=62.917\n",
      ">epoch=46 a=0.010 error=62.913\n",
      ">epoch=47 a=0.010 error=62.909\n",
      ">epoch=48 a=0.010 error=62.905\n",
      ">epoch=49 a=0.010 error=62.901\n"
     ]
    }
   ],
   "source": [
    "mm = min_max(data)\n",
    "nn = normalize(data, mm)\n",
    "n_folds = 5 # Folds.\n",
    "a = 0.01    # Learning rate.\n",
    "epoch = 50  # Epoch.\n",
    "\n",
    "scores = evaluate_algorithm(nn, linear_regression_sgd, n_folds, a, epoch)"
   ]
  },
  {
   "cell_type": "code",
   "execution_count": 41,
   "metadata": {},
   "outputs": [
    {
     "data": {
      "text/plain": [
       "('scores',\n",
       " [0.12248058224159092,\n",
       "  0.13034017509167112,\n",
       "  0.12620370547483578,\n",
       "  0.12897687952843237,\n",
       "  0.12446990678682233])"
      ]
     },
     "execution_count": 41,
     "metadata": {},
     "output_type": "execute_result"
    }
   ],
   "source": [
    "'scores', scores # ('scores', [0.12248058224159092, 0.13034017509167112, 0.12620370547483578, 0.12897687952843237, 0.12446990678682233])"
   ]
  },
  {
   "cell_type": "code",
   "execution_count": 40,
   "metadata": {},
   "outputs": [
    {
     "data": {
      "text/plain": [
       "('mean rmse', '0.126')"
      ]
     },
     "execution_count": 40,
     "metadata": {},
     "output_type": "execute_result"
    }
   ],
   "source": [
    "'mean rmse', f'{sum(scores)/len(scores):.3f}' # ('mean rmse', '0.126')"
   ]
  },
  {
   "cell_type": "code",
   "execution_count": null,
   "metadata": {},
   "outputs": [],
   "source": []
  }
 ],
 "metadata": {
  "kernelspec": {
   "display_name": "Python 3",
   "language": "python",
   "name": "python3"
  },
  "language_info": {
   "codemirror_mode": {
    "name": "ipython",
    "version": 3
   },
   "file_extension": ".py",
   "mimetype": "text/x-python",
   "name": "python",
   "nbconvert_exporter": "python",
   "pygments_lexer": "ipython3",
   "version": "3.7.3"
  }
 },
 "nbformat": 4,
 "nbformat_minor": 2
}
