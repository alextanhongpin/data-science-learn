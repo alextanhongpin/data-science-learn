{
 "cells": [
  {
   "cell_type": "markdown",
   "metadata": {},
   "source": [
    "# Probability\n",
    "\n",
    "Dependent: Two events E and F are dependent if knowing something about whether E happens gives us information about whether F happens (and vice versa).\n",
    "\n",
    "    \n",
    "When two events are independent, than the probability that they both happen is the product of probabilities that each one happen.\n",
    "```\n",
    "P(E, F) = P(E)P(F)\n",
    "```\n",
    "## Conditional Probability\n",
    "\n",
    "If they are not necessarily independent (and if the probability of F is not zero), then we define the probability of E conditional on F as:\n",
    "```    \n",
    "P(E|F) = P(E,F)/P(F)\n",
    "```\n",
    "\n",
    "It is read as probability of E, given that F happens.\n",
    "\n",
    "We can rewrite it as:\n",
    "\n",
    "```\n",
    "P(E,F) = P(E|F)P(F)\n",
    "```"
   ]
  },
  {
   "cell_type": "markdown",
   "metadata": {},
   "source": [
    "Example: a family with two unknown children.\n",
    "    \n",
    "Assumption\n",
    "- each child is likely to be a girl or boy\n",
    "- the gender of the second child is independent of the gender of the first child\n",
    "\n",
    "\n",
    "Here are the possible combinations for independent probability:\n",
    "```\n",
    "BB, GG, BG, GB\n",
    "\n",
    "No girls: 1/4\n",
    "One boy, one girl: 1/2\n",
    "Two girls: 1/ 4\n",
    "```\n",
    "http://adit.io/posts/2017-12-05-A-Mind-Boggling-Probability-Problem.html"
   ]
  },
  {
   "cell_type": "markdown",
   "metadata": {},
   "source": [
    "Dependent probability: What is the probability that both children are girls on the event that at least one of the children is a girl?\n",
    "    \n",
    "    (-BB-), GG, BG, GB\n",
    "\n",
    "    The answer is 1/3"
   ]
  },
  {
   "cell_type": "code",
   "execution_count": null,
   "metadata": {},
   "outputs": [],
   "source": []
  }
 ],
 "metadata": {
  "kernelspec": {
   "display_name": "Python 3",
   "language": "python",
   "name": "python3"
  },
  "language_info": {
   "codemirror_mode": {
    "name": "ipython",
    "version": 3
   },
   "file_extension": ".py",
   "mimetype": "text/x-python",
   "name": "python",
   "nbconvert_exporter": "python",
   "pygments_lexer": "ipython3",
   "version": "3.7.3"
  }
 },
 "nbformat": 4,
 "nbformat_minor": 2
}
