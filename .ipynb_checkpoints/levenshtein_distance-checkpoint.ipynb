{
 "cells": [
  {
   "cell_type": "code",
   "execution_count": 2,
   "metadata": {},
   "outputs": [],
   "source": [
    "def levenshtein_distance(s, t):\n",
    "    \"\"\"Takes a source and target and return the levenshtein score\"\"\"\n",
    "    m, n = len(s)+1, len(t)+1\n",
    "    \n",
    "    # Creates a 2D matrix with m rows and n columns.\n",
    "    d = [[0 for i in range(n)] for j in range(m)]\n",
    "    for i in range(1, m):\n",
    "        d[i][0] = i\n",
    "        \n",
    "    for j in range(1, n):\n",
    "        d[0][j] = j\n",
    "\n",
    "    for j in range(1, n):\n",
    "        for i in range(1, m):\n",
    "            substitution_cost = 0 if s[i-1] == t[j-1] else 1\n",
    "            d[i][j] = min(d[i-1][j] + 1,\n",
    "                          d[i][j-1] + 1,\n",
    "                          d[i-1][j-1] + substitution_cost)\n",
    "#     pretty_print(d)\n",
    "    return d[m-1][n-1]\n",
    "\n",
    "\n",
    "def pretty_print(d):\n",
    "    print('\\n'.join(map(lambda x: ','.join((str(i) for i in x)), d)))"
   ]
  },
  {
   "cell_type": "code",
   "execution_count": 3,
   "metadata": {},
   "outputs": [
    {
     "name": "stderr",
     "output_type": "stream",
     "text": [
      "......\n",
      "----------------------------------------------------------------------\n",
      "Ran 6 tests in 0.063s\n",
      "\n",
      "OK\n"
     ]
    }
   ],
   "source": [
    "import unittest\n",
    "\n",
    "f = levenshtein_distance\n",
    "\n",
    "class TestLevenshteinDistance(unittest.TestCase):\n",
    "    def test_empty_strings(self):\n",
    "        self.assertEqual(f(\"\", \"\"), 0)\n",
    "        self.assertEqual(f(\"a\", \"\"), 1)\n",
    "        self.assertEqual(f(\"\", \"a\"), 1)\n",
    "        self.assertEqual(f(\"abc\", \"\"), 3)\n",
    "        self.assertEqual(f(\"\", \"abc\"), 3)\n",
    "    \n",
    "    def test_equal_strings(self):\n",
    "        self.assertEqual(f('a', 'a'), 0)\n",
    "        self.assertEqual(f('ab', 'ab'), 0)\n",
    "        self.assertEqual(f('abc', 'abc'), 0)\n",
    "        \n",
    "    def test_inserts(self):\n",
    "        self.assertEqual(f('', 'a'), 1)\n",
    "        self.assertEqual(f('a', 'ab'), 1)\n",
    "        self.assertEqual(f('b', 'ab'), 1)\n",
    "        self.assertEqual(f('ac', 'abc'), 1)\n",
    "    \n",
    "    def test_deletes(self):\n",
    "        self.assertEqual(f('a', ''), 1)\n",
    "        self.assertEqual(f('ab', 'a'), 1)\n",
    "        self.assertEqual(f('ab', 'b'), 1)\n",
    "        self.assertEqual(f('abc', 'ac'), 1)\n",
    "        \n",
    "    def test_substitution(self):\n",
    "        self.assertEqual(f('a', 'b'), 1)\n",
    "        self.assertEqual(f('ab', 'ac'), 1)\n",
    "        self.assertEqual(f('abc', 'axc'), 1)\n",
    "    \n",
    "    def test_all_operations(self):\n",
    "        self.assertEqual(f('example', 'samples'), 3)\n",
    "        self.assertEqual(f('sturgeon', 'urgently'), 6)\n",
    "        self.assertEqual(f('levenshtein', 'frankenstein'), 6)\n",
    "        self.assertEqual(f('distance', 'difference'), 5)\n",
    "        self.assertEqual(f('java was neat', 'scala is great'), 7)\n",
    "\n",
    "if __name__ == '__main__':\n",
    "    unittest.main(argv=['first-argv-is-excluded'], exit=False)"
   ]
  }
 ],
 "metadata": {
  "kernelspec": {
   "display_name": "Python 3",
   "language": "python",
   "name": "python3"
  },
  "language_info": {
   "codemirror_mode": {
    "name": "ipython",
    "version": 3
   },
   "file_extension": ".py",
   "mimetype": "text/x-python",
   "name": "python",
   "nbconvert_exporter": "python",
   "pygments_lexer": "ipython3",
   "version": "3.7.3"
  }
 },
 "nbformat": 4,
 "nbformat_minor": 2
}
