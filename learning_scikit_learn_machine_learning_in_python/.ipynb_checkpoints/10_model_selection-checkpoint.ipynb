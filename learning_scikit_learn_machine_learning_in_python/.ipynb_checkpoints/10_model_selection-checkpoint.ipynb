{
 "cells": [
  {
   "cell_type": "code",
   "execution_count": 55,
   "metadata": {},
   "outputs": [],
   "source": [
    "%matplotlib inline\n",
    "\n",
    "import numpy as np\n",
    "import matplotlib.pyplot as plt\n",
    "from scipy.stats import sem\n",
    "\n",
    "from sklearn.datasets import fetch_20newsgroups\n",
    "from sklearn.naive_bayes import MultinomialNB\n",
    "from sklearn.pipeline import Pipeline\n",
    "from sklearn.feature_extraction.text import TfidfVectorizer\n",
    "from sklearn.model_selection import cross_val_score, KFold, GridSearchCV\n",
    "from sklearn.svm import SVC"
   ]
  },
  {
   "cell_type": "code",
   "execution_count": 2,
   "metadata": {},
   "outputs": [],
   "source": [
    "news = fetch_20newsgroups(subset='all')\n",
    "n_samples = 3000\n",
    "X_train = news.data[:n_samples]\n",
    "y_train = news.target[:n_samples]"
   ]
  },
  {
   "cell_type": "code",
   "execution_count": 5,
   "metadata": {},
   "outputs": [],
   "source": [
    "clf = Pipeline([\n",
    "    ('vect', TfidfVectorizer(stop_words='english',\n",
    "                             token_pattern=r'\\b[a-z0-9_\\-\\.]+[a-z][a-z0-9_\\-\\.]\\b')),\n",
    "    ('nb', MultinomialNB(alpha=0.01))\n",
    "])"
   ]
  },
  {
   "cell_type": "code",
   "execution_count": 9,
   "metadata": {},
   "outputs": [],
   "source": [
    "def evaluate_cross_validation(clf, X, y, k=5):\n",
    "    # Create k-fold cross validation iterator of k=5 folds.\n",
    "    cv = KFold(k, shuffle=True, random_state=0)\n",
    "    \n",
    "    scores = cross_val_score(clf, X, y, cv=cv)\n",
    "    print(scores)\n",
    "    print(f'Mean score: {np.mean(scores):.3f} (+/-{sem(scores)}:.3f)')"
   ]
  },
  {
   "cell_type": "code",
   "execution_count": 12,
   "metadata": {},
   "outputs": [
    {
     "name": "stdout",
     "output_type": "stream",
     "text": [
      "[0.816 0.811 0.822]\n",
      "Mean score: 0.816 (+/-0.0031797973380564572:.3f)\n"
     ]
    }
   ],
   "source": [
    "evaluate_cross_validation(clf, X_train, y_train, 3)"
   ]
  },
  {
   "cell_type": "code",
   "execution_count": 42,
   "metadata": {},
   "outputs": [],
   "source": [
    "def calc_params(X, y, clf, param_values, param_name, k):\n",
    "    # Initialize training and testing scores with zeros.\n",
    "    train_scores = np.zeros(len(param_values))\n",
    "    test_scores = np.zeros(len(param_values))\n",
    "    \n",
    "    # Iterate over the different param values.\n",
    "    for i, param_value in enumerate(param_values):\n",
    "        print(param_name, '=', param_value)\n",
    "        \n",
    "        # Set classifier parameters.\n",
    "        clf.set_params(**{param_name: param_value})\n",
    "        \n",
    "        # Initialize the K scores obtained for each fold.\n",
    "        k_train_scores = np.zeros(k)\n",
    "        k_test_scores = np.zeros(k)\n",
    "        \n",
    "        # Create k-fold cross validation.\n",
    "        cv = KFold(k, shuffle=True, random_state=0)\n",
    "        \n",
    "        # Iterate over k folds.\n",
    "        for j, (train, test) in enumerate(cv.split(X)):\n",
    "            clf.fit([X[k] for k in train], y[train])\n",
    "            k_train_scores[j] = clf.score([X[k] for k in train], y[train])\n",
    "            k_test_scores[j] = clf.score([X[k] for k in test], y[test])\n",
    "        \n",
    "        train_scores[i] = np.mean(k_train_scores)\n",
    "        test_scores[i] = np.mean(k_test_scores)\n",
    "    \n",
    "    # Plot the training and testing scores in a log scale.\n",
    "    plt.semilogx(param_values, train_scores, alpha=0.4, lw=2, c='b')\n",
    "    plt.semilogx(param_values, test_scores, alpha=0.4, lw=2, c='g')\n",
    "    plt.xlabel('Alpha values')\n",
    "    plt.ylabel('Mean cross-validation accuracy')\n",
    "    \n",
    "    # Return the training and testing scores on each paramater value.\n",
    "    return train_scores, test_scores"
   ]
  },
  {
   "cell_type": "code",
   "execution_count": 43,
   "metadata": {},
   "outputs": [
    {
     "data": {
      "text/plain": [
       "array([1.e-07, 1.e-06, 1.e-05, 1.e-04, 1.e-03, 1.e-02, 1.e-01, 1.e+00])"
      ]
     },
     "execution_count": 43,
     "metadata": {},
     "output_type": "execute_result"
    }
   ],
   "source": [
    "alphas = np.logspace(-7, 0, 8)\n",
    "alphas"
   ]
  },
  {
   "cell_type": "code",
   "execution_count": 44,
   "metadata": {},
   "outputs": [
    {
     "name": "stdout",
     "output_type": "stream",
     "text": [
      "nb__alpha = 1e-07\n",
      "nb__alpha = 1e-06\n",
      "nb__alpha = 1e-05\n",
      "nb__alpha = 0.0001\n",
      "nb__alpha = 0.001\n",
      "nb__alpha = 0.01\n",
      "nb__alpha = 0.1\n",
      "nb__alpha = 1.0\n"
     ]
    },
    {
     "data": {
      "image/png": "[encoded data removed]",
      "text/plain": [
       "<Figure size 432x288 with 1 Axes>"
      ]
     },
     "metadata": {
      "needs_background": "light"
     },
     "output_type": "display_data"
    }
   ],
   "source": [
    "train_scores, test_scores = calc_params(X_train, y_train, clf, alphas, 'nb__alpha', 3)"
   ]
  },
  {
   "cell_type": "code",
   "execution_count": 45,
   "metadata": {},
   "outputs": [
    {
     "data": {
      "text/plain": [
       "(array([1.        , 1.        , 1.        , 1.        , 1.        ,\n",
       "        1.        , 0.99683333, 0.97333333]),\n",
       " array([0.77166667, 0.77733333, 0.784     , 0.79666667, 0.80566667,\n",
       "        0.81633333, 0.807     , 0.747     ]))"
      ]
     },
     "execution_count": 45,
     "metadata": {},
     "output_type": "execute_result"
    }
   ],
   "source": [
    "train_scores, test_scores"
   ]
  },
  {
   "cell_type": "code",
   "execution_count": 47,
   "metadata": {},
   "outputs": [],
   "source": [
    "clf = Pipeline([\n",
    "    ('vect', TfidfVectorizer(stop_words='english',\n",
    "                             token_pattern=r'\\b[a-z0-9_\\-\\.]+[a-z][a-z0-9_\\-\\.]\\b')),\n",
    "    ('svc', SVC())\n",
    "])"
   ]
  },
  {
   "cell_type": "code",
   "execution_count": 48,
   "metadata": {},
   "outputs": [
    {
     "name": "stdout",
     "output_type": "stream",
     "text": [
      "svc__gamma = 0.01\n",
      "svc__gamma = 0.1\n",
      "svc__gamma = 1.0\n",
      "svc__gamma = 10.0\n"
     ]
    },
    {
     "data": {
      "image/png": "[encoded data removed]",
      "text/plain": [
       "<Figure size 432x288 with 1 Axes>"
      ]
     },
     "metadata": {
      "needs_background": "light"
     },
     "output_type": "display_data"
    }
   ],
   "source": [
    "gammas = np.logspace(-2, 1, 4)\n",
    "train_score, test_scores = calc_params(X_train, y_train, clf, gammas, 'svc__gamma', 3)"
   ]
  },
  {
   "cell_type": "code",
   "execution_count": 56,
   "metadata": {},
   "outputs": [
    {
     "name": "stdout",
     "output_type": "stream",
     "text": [
      "CPU times: user 5 µs, sys: 1 µs, total: 6 µs\n",
      "Wall time: 11.2 µs\n",
      "Fitting 3 folds for each of 12 candidates, totalling 36 fits\n",
      "[CV] svc__C=0.1, svc__gamma=0.01 .....................................\n"
     ]
    },
    {
     "name": "stderr",
     "output_type": "stream",
     "text": [
      "[Parallel(n_jobs=1)]: Using backend SequentialBackend with 1 concurrent workers.\n"
     ]
    },
    {
     "name": "stdout",
     "output_type": "stream",
     "text": [
      "[CV] ...................... svc__C=0.1, svc__gamma=0.01, total=   9.3s\n",
      "[CV] svc__C=0.1, svc__gamma=0.01 .....................................\n"
     ]
    },
    {
     "name": "stderr",
     "output_type": "stream",
     "text": [
      "[Parallel(n_jobs=1)]: Done   1 out of   1 | elapsed:    9.3s remaining:    0.0s\n"
     ]
    },
    {
     "name": "stdout",
     "output_type": "stream",
     "text": [
      "[CV] ...................... svc__C=0.1, svc__gamma=0.01, total=   9.4s\n",
      "[CV] svc__C=0.1, svc__gamma=0.01 .....................................\n",
      "[CV] ...................... svc__C=0.1, svc__gamma=0.01, total=   9.8s\n",
      "[CV] svc__C=0.1, svc__gamma=0.1 ......................................\n",
      "[CV] ....................... svc__C=0.1, svc__gamma=0.1, total=   9.7s\n",
      "[CV] svc__C=0.1, svc__gamma=0.1 ......................................\n",
      "[CV] ....................... svc__C=0.1, svc__gamma=0.1, total=   9.7s\n",
      "[CV] svc__C=0.1, svc__gamma=0.1 ......................................\n",
      "[CV] ....................... svc__C=0.1, svc__gamma=0.1, total=   9.6s\n",
      "[CV] svc__C=0.1, svc__gamma=1.0 ......................................\n",
      "[CV] ....................... svc__C=0.1, svc__gamma=1.0, total=   9.3s\n",
      "[CV] svc__C=0.1, svc__gamma=1.0 ......................................\n",
      "[CV] ....................... svc__C=0.1, svc__gamma=1.0, total=   9.4s\n",
      "[CV] svc__C=0.1, svc__gamma=1.0 ......................................\n",
      "[CV] ....................... svc__C=0.1, svc__gamma=1.0, total=   9.5s\n",
      "[CV] svc__C=0.1, svc__gamma=10.0 .....................................\n",
      "[CV] ...................... svc__C=0.1, svc__gamma=10.0, total=  10.6s\n",
      "[CV] svc__C=0.1, svc__gamma=10.0 .....................................\n",
      "[CV] ...................... svc__C=0.1, svc__gamma=10.0, total=  11.0s\n",
      "[CV] svc__C=0.1, svc__gamma=10.0 .....................................\n",
      "[CV] ...................... svc__C=0.1, svc__gamma=10.0, total=  12.3s\n",
      "[CV] svc__C=1.0, svc__gamma=0.01 .....................................\n",
      "[CV] ...................... svc__C=1.0, svc__gamma=0.01, total=  10.2s\n",
      "[CV] svc__C=1.0, svc__gamma=0.01 .....................................\n",
      "[CV] ...................... svc__C=1.0, svc__gamma=0.01, total=   9.3s\n",
      "[CV] svc__C=1.0, svc__gamma=0.01 .....................................\n",
      "[CV] ...................... svc__C=1.0, svc__gamma=0.01, total=  14.3s\n",
      "[CV] svc__C=1.0, svc__gamma=0.1 ......................................\n",
      "[CV] ....................... svc__C=1.0, svc__gamma=0.1, total=   9.7s\n",
      "[CV] svc__C=1.0, svc__gamma=0.1 ......................................\n",
      "[CV] ....................... svc__C=1.0, svc__gamma=0.1, total=  10.7s\n",
      "[CV] svc__C=1.0, svc__gamma=0.1 ......................................\n",
      "[CV] ....................... svc__C=1.0, svc__gamma=0.1, total=   9.6s\n",
      "[CV] svc__C=1.0, svc__gamma=1.0 ......................................\n",
      "[CV] ....................... svc__C=1.0, svc__gamma=1.0, total=  11.2s\n",
      "[CV] svc__C=1.0, svc__gamma=1.0 ......................................\n",
      "[CV] ....................... svc__C=1.0, svc__gamma=1.0, total=  10.5s\n",
      "[CV] svc__C=1.0, svc__gamma=1.0 ......................................\n",
      "[CV] ....................... svc__C=1.0, svc__gamma=1.0, total=   9.9s\n",
      "[CV] svc__C=1.0, svc__gamma=10.0 .....................................\n",
      "[CV] ...................... svc__C=1.0, svc__gamma=10.0, total=  13.6s\n",
      "[CV] svc__C=1.0, svc__gamma=10.0 .....................................\n",
      "[CV] ...................... svc__C=1.0, svc__gamma=10.0, total=  12.2s\n",
      "[CV] svc__C=1.0, svc__gamma=10.0 .....................................\n",
      "[CV] ...................... svc__C=1.0, svc__gamma=10.0, total=  10.2s\n",
      "[CV] svc__C=10.0, svc__gamma=0.01 ....................................\n",
      "[CV] ..................... svc__C=10.0, svc__gamma=0.01, total=  10.1s\n",
      "[CV] svc__C=10.0, svc__gamma=0.01 ....................................\n",
      "[CV] ..................... svc__C=10.0, svc__gamma=0.01, total=   9.9s\n",
      "[CV] svc__C=10.0, svc__gamma=0.01 ....................................\n",
      "[CV] ..................... svc__C=10.0, svc__gamma=0.01, total=   9.7s\n",
      "[CV] svc__C=10.0, svc__gamma=0.1 .....................................\n",
      "[CV] ...................... svc__C=10.0, svc__gamma=0.1, total=   9.4s\n",
      "[CV] svc__C=10.0, svc__gamma=0.1 .....................................\n",
      "[CV] ...................... svc__C=10.0, svc__gamma=0.1, total=  10.7s\n",
      "[CV] svc__C=10.0, svc__gamma=0.1 .....................................\n",
      "[CV] ...................... svc__C=10.0, svc__gamma=0.1, total=  13.2s\n",
      "[CV] svc__C=10.0, svc__gamma=1.0 .....................................\n",
      "[CV] ...................... svc__C=10.0, svc__gamma=1.0, total=  11.4s\n",
      "[CV] svc__C=10.0, svc__gamma=1.0 .....................................\n",
      "[CV] ...................... svc__C=10.0, svc__gamma=1.0, total=  10.2s\n",
      "[CV] svc__C=10.0, svc__gamma=1.0 .....................................\n",
      "[CV] ...................... svc__C=10.0, svc__gamma=1.0, total=   9.8s\n",
      "[CV] svc__C=10.0, svc__gamma=10.0 ....................................\n",
      "[CV] ..................... svc__C=10.0, svc__gamma=10.0, total=  12.9s\n",
      "[CV] svc__C=10.0, svc__gamma=10.0 ....................................\n",
      "[CV] ..................... svc__C=10.0, svc__gamma=10.0, total=  11.6s\n",
      "[CV] svc__C=10.0, svc__gamma=10.0 ....................................\n",
      "[CV] ..................... svc__C=10.0, svc__gamma=10.0, total=  10.0s\n"
     ]
    },
    {
     "name": "stderr",
     "output_type": "stream",
     "text": [
      "[Parallel(n_jobs=1)]: Done  36 out of  36 | elapsed:  6.3min finished\n"
     ]
    },
    {
     "data": {
      "text/plain": [
       "({'svc__C': 10.0, 'svc__gamma': 0.1}, 0.8273333333333334)"
      ]
     },
     "execution_count": 56,
     "metadata": {},
     "output_type": "execute_result"
    }
   ],
   "source": [
    "%time\n",
    "parameters = {\n",
    "    'svc__gamma': np.logspace(-2, 1, 4),\n",
    "    'svc__C': np.logspace(-1, 1, 3)\n",
    "}\n",
    "\n",
    "clf = Pipeline([\n",
    "    ('vect', TfidfVectorizer(stop_words='english',\n",
    "                             token_pattern=r'\\b[a-z0-9_\\-\\.]+[a-z][a-z0-9_\\-\\.]\\b')),\n",
    "    ('svc', SVC())\n",
    "])\n",
    "\n",
    "gs = GridSearchCV(clf, parameters, verbose=2, refit=False, cv=3)\n",
    "gs.fit(X_train, y_train)\n",
    "gs.best_params_, gs.best_score_"
   ]
  },
  {
   "cell_type": "code",
   "execution_count": 61,
   "metadata": {},
   "outputs": [
    {
     "name": "stdout",
     "output_type": "stream",
     "text": [
      "hello world\n",
      "CPU times: user 269 µs, sys: 96 µs, total: 365 µs\n",
      "Wall time: 358 µs\n",
      "good day\n",
      "hello world\n",
      "CPU times: user 40 µs, sys: 0 ns, total: 40 µs\n",
      "Wall time: 43.9 µs\n"
     ]
    }
   ],
   "source": [
    "%time _ = print('hello world') # This will only test the time taken for printing.\n",
    "\n",
    "print('good day')\n",
    "\n",
    "%time _ = print('hello world') # This will only test the time taken for printing."
   ]
  }
 ],
 "metadata": {
  "kernelspec": {
   "display_name": "Python 3",
   "language": "python",
   "name": "python3"
  },
  "language_info": {
   "codemirror_mode": {
    "name": "ipython",
    "version": 3
   },
   "file_extension": ".py",
   "mimetype": "text/x-python",
   "name": "python",
   "nbconvert_exporter": "python",
   "pygments_lexer": "ipython3",
   "version": "3.7.3"
  }
 },
 "nbformat": 4,
 "nbformat_minor": 2
}
