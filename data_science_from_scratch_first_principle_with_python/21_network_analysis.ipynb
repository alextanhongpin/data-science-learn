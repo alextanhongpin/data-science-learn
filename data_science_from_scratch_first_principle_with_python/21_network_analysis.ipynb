{
 "cells": [
  {
   "cell_type": "code",
   "execution_count": 28,
   "metadata": {},
   "outputs": [],
   "source": [
    "users = [\n",
    "    { \"id\": 0, \"name\": \"Hero\" },\n",
    "    { \"id\": 1, \"name\": \"Dunn\" },\n",
    "    { \"id\": 2, \"name\": \"Sue\" },\n",
    "    { \"id\": 3, \"name\": \"Chi\" },\n",
    "    { \"id\": 4, \"name\": \"Thor\" },\n",
    "    { \"id\": 5, \"name\": \"Clive\" },\n",
    "    { \"id\": 6, \"name\": \"Hicks\" },\n",
    "    { \"id\": 7, \"name\": \"Devin\" },\n",
    "    { \"id\": 8, \"name\": \"Kate\" },\n",
    "    { \"id\": 9, \"name\": \"Klein\" }\n",
    "]\n",
    "\n",
    "friendships = [(0, 1), (0, 2), (1, 2), (1, 3), (2, 3), (3, 4),\n",
    "               (4, 5), (5, 6), (5, 7), (6, 8), (7, 8), (8, 9)]"
   ]
  },
  {
   "cell_type": "code",
   "execution_count": 29,
   "metadata": {},
   "outputs": [],
   "source": [
    "for user in users:\n",
    "    user['friends'] = []\n",
    "\n",
    "for i, j in friendships:\n",
    "    users[i]['friends'].append(users[j])\n",
    "    users[j]['friends'].append(users[i])"
   ]
  },
  {
   "cell_type": "code",
   "execution_count": 30,
   "metadata": {},
   "outputs": [],
   "source": [
    "from collections import deque\n",
    "\n",
    "def shortest_paths_from(from_user):\n",
    "    # A dictionary from \"user_id\" to *all* shortest paths to that user.\n",
    "    shortest_paths_to = { from_user['id']: [[]] }\n",
    "    \n",
    "    # A queue of (previous user, next user) that we need to check\n",
    "    # starts out with all pairs (from_user, friend_of_from_user)\n",
    "    frontier = deque((from_user, friend)\n",
    "                     for friend in from_user['friends'])\n",
    "    \n",
    "    # Keep going until we empty the queue.\n",
    "    while frontier:\n",
    "        prev_user, user = frontier.popleft() # Remove the user who's\n",
    "        user_id = user['id'] # first in the queue.\n",
    "        \n",
    "        # Because of the way we are adding to the queue,\n",
    "        # necessarily we already know some shortest paths to prev_user.\n",
    "        paths_to_prev_user = shortest_paths_to[prev_user['id']]\n",
    "        new_paths_to_user = [path + [user_id] for path in paths_to_prev_user]\n",
    "        \n",
    "        # It's possible we already know the shortest path.\n",
    "        old_paths_to_user = shortest_paths_to.get(user_id, [])\n",
    "        \n",
    "        # What's the shortest path to here that we've seen so far?\n",
    "        if old_paths_to_user:\n",
    "            min_path_length = len(old_paths_to_user[0])\n",
    "        else:\n",
    "            min_path_length = float('inf')\n",
    "        \n",
    "        # Only keep paths that aren't too long and are exactly new.\n",
    "        new_paths_to_user = [path\n",
    "                             for path in new_paths_to_user\n",
    "                             if len(path) <= min_path_length\n",
    "                             and path not in old_paths_to_user]\n",
    "        \n",
    "        shortest_paths_to[user_id] = old_paths_to_user + new_paths_to_user\n",
    "        \n",
    "        # Add never seen neigbors to the frontier.\n",
    "        frontier.extend((user, friend)\n",
    "                        for friend in user['friends']\n",
    "                        if friend['id'] not in shortest_paths_to)\n",
    "    \n",
    "    return shortest_paths_to"
   ]
  },
  {
   "cell_type": "code",
   "execution_count": 31,
   "metadata": {},
   "outputs": [],
   "source": [
    "for user in users:\n",
    "    user['shortest_paths'] = shortest_paths_from(user)"
   ]
  },
  {
   "cell_type": "code",
   "execution_count": 32,
   "metadata": {},
   "outputs": [],
   "source": [
    "for user in users:\n",
    "    user['betweeness_centrality'] = 0.0"
   ]
  },
  {
   "cell_type": "code",
   "execution_count": 33,
   "metadata": {},
   "outputs": [],
   "source": [
    "for source in users:\n",
    "    source_id = source['id']\n",
    "    for target_id, paths in source['shortest_paths'].items():\n",
    "        if source_id < target_id: # Don't double count.\n",
    "            num_paths = len(paths) # How many shortest paths?\n",
    "            contrib = 1 / num_paths # Contribution to centrality.\n",
    "            for path in paths:\n",
    "                for id in path:\n",
    "                    if id not in [source_id, target_id]:\n",
    "                        users[id]['betweeness_centrality'] += contrib"
   ]
  },
  {
   "cell_type": "code",
   "execution_count": 36,
   "metadata": {},
   "outputs": [],
   "source": [
    "def farness(user):\n",
    "    \"\"\"The sum of the lengths of the shortest paths to each other user.\"\"\"\n",
    "    return sum(len(paths[0])\n",
    "                   for path in user['shortest_paths'].values())"
   ]
  },
  {
   "cell_type": "code",
   "execution_count": 37,
   "metadata": {},
   "outputs": [],
   "source": [
    "for user in users:\n",
    "    user['closeness_centrality'] = 1 / farness(user)"
   ]
  },
  {
   "cell_type": "code",
   "execution_count": null,
   "metadata": {},
   "outputs": [],
   "source": [
    "# NOTE: Halfway done."
   ]
  }
 ],
 "metadata": {
  "kernelspec": {
   "display_name": "Python 3",
   "language": "python",
   "name": "python3"
  },
  "language_info": {
   "codemirror_mode": {
    "name": "ipython",
    "version": 3
   },
   "file_extension": ".py",
   "mimetype": "text/x-python",
   "name": "python",
   "nbconvert_exporter": "python",
   "pygments_lexer": "ipython3",
   "version": "3.7.3"
  }
 },
 "nbformat": 4,
 "nbformat_minor": 2
}
