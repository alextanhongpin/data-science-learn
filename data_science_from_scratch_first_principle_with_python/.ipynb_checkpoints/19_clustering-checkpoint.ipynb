{
 "cells": [
  {
   "cell_type": "markdown",
   "metadata": {},
   "source": [
    "# Clustering\n",
    "\n",
    "An unsupervised learning."
   ]
  },
  {
   "cell_type": "code",
   "execution_count": 95,
   "metadata": {},
   "outputs": [],
   "source": [
    "def scalar_multiply(c, v):\n",
    "    \"\"\"c is a number, v is a vector\"\"\"\n",
    "    return [c * v_i for v_i in v]\n",
    "\n",
    "def vector_add(v, w):\n",
    "    \"\"\"adds corresponding elements\"\"\"\n",
    "    return [v_i + w_i for v_i, w_i in zip(v, w)]\n",
    "\n",
    "def vector_sum(vectors):\n",
    "    \"\"\"sum all corresponding elements\"\"\"\n",
    "    result = vectors[0]\n",
    "    for vector in vectors[1:]:\n",
    "        result = vector_add(result, vector)\n",
    "    return result\n",
    "\n",
    "def vector_subtract(v, w):\n",
    "    return [vi - wi for vi, wi in zip(v, w)]\n",
    "\n",
    "def vector_mean(vectors):\n",
    "    \"\"\"compute the vector whose ith elements is the mean of the ith elements of the input vectors\"\"\"\n",
    "    n = len(vectors)\n",
    "    return scalar_multiply(1/n, vector_sum(vectors))\n",
    "\n",
    "def dot(v, w):\n",
    "    return sum(v_i * w_i for v_i, w_i in zip(v, w))\n",
    "\n",
    "def sum_of_squares(v):\n",
    "    return dot(v, v)\n",
    "\n",
    "def squared_distance(v, w):\n",
    "    return sum_of_squares(vector_subtract(v, w))\n",
    "\n",
    "def distance(v, w):\n",
    "    return math.sqrt(squared_distance(v, w))"
   ]
  },
  {
   "cell_type": "code",
   "execution_count": 96,
   "metadata": {},
   "outputs": [],
   "source": [
    "class KMeans:\n",
    "    \"\"\"Performs k-means clustering.\"\"\"\n",
    "    def __init__(self, k):\n",
    "        self.k = k\n",
    "        self.means = None\n",
    "    \n",
    "    def classify(self, input):\n",
    "        \"\"\"Return the index of the cluster closest to the input.\"\"\"\n",
    "        return min(range(self.k),\n",
    "                   key=lambda i: squared_distance(input, self.means[i]))\n",
    "    \n",
    "    def train(self, inputs):\n",
    "        # Choose k random points as the initial means.\n",
    "        self.means = random.sample(inputs, self.k)\n",
    "        assignments = None\n",
    "    \n",
    "        while True:\n",
    "            # Find new assigments.\n",
    "            new_assignments = list(map(self.classify, inputs))\n",
    "            \n",
    "            # If no assigments have changed, we are done.\n",
    "            if assignments == new_assignments:\n",
    "                return\n",
    "        \n",
    "            # Otherwise keep the new assignments.\n",
    "            assignments = new_assignments\n",
    "            \n",
    "            # And compute new means based on the new assigments.\n",
    "            for i in range(self.k):\n",
    "                # Find all the points assigned to cluster i.\n",
    "                i_points = [p for p, a in zip(inputs, assignments) if a == i]\n",
    "                \n",
    "                # Make sure i_points is not empty so don't divide by 0.\n",
    "                if i_points:\n",
    "                    self.means[i] = vector_mean(i_points)"
   ]
  },
  {
   "cell_type": "code",
   "execution_count": 97,
   "metadata": {},
   "outputs": [],
   "source": [
    "inputs = [[-14,-5],[13,13],[20,23],[-19,-11],[-9,-16],[21,27],[-49,15],[26,13],[-46,5],[-34,-1],[11,15],[-49,0],[-22,-16],[19,28],[-12,-8],[-13,-19],[-41,8],[-11,-6],[-25,-9],[-18,-3]]"
   ]
  },
  {
   "cell_type": "code",
   "execution_count": 98,
   "metadata": {},
   "outputs": [
    {
     "data": {
      "text/plain": [
       "[[-25.857142857142854, -4.714285714285714],\n",
       " [20.0, 26.0],\n",
       " [16.666666666666664, 13.666666666666666]]"
      ]
     },
     "execution_count": 98,
     "metadata": {},
     "output_type": "execute_result"
    }
   ],
   "source": [
    "import random\n",
    "\n",
    "random.seed(0)\n",
    "clusterer = KMeans(3)\n",
    "clusterer.train(inputs)\n",
    "clusterer.means"
   ]
  },
  {
   "cell_type": "code",
   "execution_count": 99,
   "metadata": {},
   "outputs": [
    {
     "data": {
      "text/plain": [
       "[[-25.857142857142854, -4.714285714285714],\n",
       " [18.333333333333332, 19.833333333333332]]"
      ]
     },
     "execution_count": 99,
     "metadata": {},
     "output_type": "execute_result"
    }
   ],
   "source": [
    "random.seed(0)\n",
    "clusterer = KMeans(2)\n",
    "clusterer.train(inputs)\n",
    "clusterer.means"
   ]
  },
  {
   "cell_type": "code",
   "execution_count": 100,
   "metadata": {},
   "outputs": [],
   "source": [
    "## Choosing k\n",
    "def squared_clustering_errors(inputs, k):\n",
    "    \"\"\"Finds the total squared error from k-means clustering the inputs.\"\"\"\n",
    "    clusterer = KMeans(k)\n",
    "    clusterer.train(inputs)\n",
    "    means = clusterer.means\n",
    "    assigments = map(clusterer.classify, inputs)\n",
    "    \n",
    "    return sum(squared_distance(input, means[cluster])\n",
    "               for input, cluster in zip(inputs, assigments))"
   ]
  },
  {
   "cell_type": "code",
   "execution_count": 101,
   "metadata": {},
   "outputs": [],
   "source": [
    "# Now plot from 1 up to len(inputs) clusters.\n",
    "ks = range(1, len(inputs) + 1)"
   ]
  },
  {
   "cell_type": "code",
   "execution_count": 102,
   "metadata": {},
   "outputs": [],
   "source": [
    "errors = [squared_clustering_errors(inputs, k) for k in ks]"
   ]
  },
  {
   "cell_type": "code",
   "execution_count": 103,
   "metadata": {},
   "outputs": [
    {
     "data": {
      "text/plain": [
       "Text(0.5, 1.0, 'Total error vs. # of Clusters')"
      ]
     },
     "execution_count": 103,
     "metadata": {},
     "output_type": "execute_result"
    },
    {
     "data": {
      "image/png": "[encoded data removed]",
      "text/plain": [
       "<Figure size 432x288 with 1 Axes>"
      ]
     },
     "metadata": {
      "needs_background": "light"
     },
     "output_type": "display_data"
    }
   ],
   "source": [
    "%matplotlib inline\n",
    "import matplotlib.pyplot as plt\n",
    "\n",
    "plt.plot(ks, errors)\n",
    "plt.xticks(ks)\n",
    "plt.xlabel('k')\n",
    "plt.ylabel('total squared error')\n",
    "plt.title('Total error vs. # of Clusters')"
   ]
  },
  {
   "cell_type": "code",
   "execution_count": 104,
   "metadata": {},
   "outputs": [],
   "source": [
    "def is_leaf(cluster):\n",
    "    \"\"\"A cluster is a leaf if it has length 1.\"\"\"\n",
    "    return len(cluster) == 1"
   ]
  },
  {
   "cell_type": "code",
   "execution_count": 105,
   "metadata": {},
   "outputs": [],
   "source": [
    "def get_children(cluster):\n",
    "    \"\"\"Returns the two children of this cluster if it's a merged cluster;\n",
    "    raises an exception if this is a leaf cluster.\"\"\"\n",
    "    if is_leaf(cluster):\n",
    "        raise TypeError('a leaf cluster has no children')\n",
    "    else:\n",
    "        return cluster[1]"
   ]
  },
  {
   "cell_type": "code",
   "execution_count": 106,
   "metadata": {},
   "outputs": [],
   "source": [
    "def cluster_distance(cluster1, cluster2, distance_agg=min):\n",
    "    \"\"\"Compute all the pairwise distances between cluster1 and cluster2\n",
    "    and apply _distance_agg_ to the resulting list.\"\"\"\n",
    "    return distance_agg([distance(input1, input2)\n",
    "                         for input1 in get_values(cluster1)\n",
    "                         for input2 in get_values(cluster2)])"
   ]
  },
  {
   "cell_type": "code",
   "execution_count": 113,
   "metadata": {},
   "outputs": [],
   "source": [
    "def get_values(cluster):\n",
    "    \"\"\"Returns the value in this cluster (if it's a leaf cluster)\n",
    "    or all the values in the leaf clusters below it (if it's not).\"\"\"\n",
    "    if is_leaf(cluster):\n",
    "        return cluster # Is already a 1-tuple containing value.\n",
    "    else:\n",
    "        return [value\n",
    "                for child in get_children(cluster)\n",
    "                for value in get_values(child)]"
   ]
  },
  {
   "cell_type": "code",
   "execution_count": 114,
   "metadata": {},
   "outputs": [],
   "source": [
    "def get_merge_order(cluster):\n",
    "    if is_leaf(cluster):\n",
    "        return float('inf')\n",
    "    else:\n",
    "        return cluster[0] # merge_order is first element of 2-tuple."
   ]
  },
  {
   "cell_type": "code",
   "execution_count": 115,
   "metadata": {},
   "outputs": [],
   "source": [
    "import math\n",
    "\n",
    "def bottom_up_cluster(inputs, distance_agg=min):\n",
    "    # Starts with every input a leaf cluster / 1-tuple.\n",
    "    clusters = [(input,) for input in inputs]\n",
    "    \n",
    "    # As long as we have more than one cluster left...\n",
    "    while len(clusters) > 1:\n",
    "        # Find the two closests clusters.\n",
    "        c1, c2 = min([(cluster1, cluster2) \n",
    "                      for i, cluster1 in enumerate(clusters)\n",
    "                      for cluster2 in clusters[:i]],\n",
    "                      key=lambda t: cluster_distance(t[0], t[1], distance_agg))\n",
    "        \n",
    "        # Remove them from the list of clusters.\n",
    "        clusters = [c for c in clusters if c != c1 and c != c2]\n",
    "        \n",
    "        # Merge them, using merge_order = # of clusters left.\n",
    "        merged_cluster = (len(clusters), [c1, c2])\n",
    "        \n",
    "        # And add their merge.\n",
    "        clusters.append(merged_cluster)\n",
    "    \n",
    "    # When there's only one cluster left, return it.\n",
    "    return clusters[0]"
   ]
  },
  {
   "cell_type": "code",
   "execution_count": 117,
   "metadata": {},
   "outputs": [
    {
     "data": {
      "text/plain": [
       "(0,\n",
       " [(1,\n",
       "   [(3, [(14, [(18, [([19, 28],), ([21, 27],)]), ([20, 23],)]), ([26, 13],)]),\n",
       "    (16, [([11, 15],), ([13, 13],)])]),\n",
       "  (2,\n",
       "   [(4,\n",
       "     [(5,\n",
       "       [(9, [(11, [([-49, 0],), ([-46, 5],)]), ([-41, 8],)]), ([-49, 15],)]),\n",
       "      ([-34, -1],)]),\n",
       "    (6,\n",
       "     [(7,\n",
       "       [(8, [(10, [([-22, -16],), ([-19, -11],)]), ([-25, -9],)]),\n",
       "        (13,\n",
       "         [(15, [(17, [([-11, -6],), ([-12, -8],)]), ([-14, -5],)]),\n",
       "          ([-18, -3],)])]),\n",
       "      (12, [([-13, -19],), ([-9, -16],)])])])])"
      ]
     },
     "execution_count": 117,
     "metadata": {},
     "output_type": "execute_result"
    }
   ],
   "source": [
    "base_cluster = bottom_up_cluster(inputs)\n",
    "base_cluster"
   ]
  },
  {
   "cell_type": "code",
   "execution_count": 118,
   "metadata": {},
   "outputs": [],
   "source": [
    "def generate_clusters(base_cluster, num_clusters):\n",
    "    # Start with a list with just the base cluster.\n",
    "    clusters = [base_cluster]\n",
    "    \n",
    "    # As long as we don't have enough clusters yet.\n",
    "    while len(clusters) < num_clusters:\n",
    "        # Choose the last-merged of our clusters.\n",
    "        next_cluster = min(clusters, key=get_merge_order)\n",
    "        \n",
    "        # Remove it from the list.\n",
    "        clusters = [c for c in clusters if c != next_cluster]\n",
    "        \n",
    "        # And add its children to the list (i.e., unmerge it).\n",
    "        clusters.extend(get_children(next_cluster))\n",
    "    \n",
    "    # Once we have enough clusters.\n",
    "    return clusters"
   ]
  },
  {
   "cell_type": "code",
   "execution_count": 120,
   "metadata": {},
   "outputs": [
    {
     "data": {
      "text/plain": [
       "[[[-49, 0],\n",
       "  [-46, 5],\n",
       "  [-41, 8],\n",
       "  [-49, 15],\n",
       "  [-34, -1],\n",
       "  [-22, -16],\n",
       "  [-19, -11],\n",
       "  [-25, -9],\n",
       "  [-11, -6],\n",
       "  [-12, -8],\n",
       "  [-14, -5],\n",
       "  [-18, -3],\n",
       "  [-13, -19],\n",
       "  [-9, -16]],\n",
       " [[19, 28], [21, 27], [20, 23], [26, 13]],\n",
       " [[11, 15], [13, 13]]]"
      ]
     },
     "execution_count": 120,
     "metadata": {},
     "output_type": "execute_result"
    }
   ],
   "source": [
    "three_clusters = [get_values(cluster) \n",
    "                  for cluster in generate_clusters(base_cluster, 3)]\n",
    "three_clusters"
   ]
  },
  {
   "cell_type": "code",
   "execution_count": 123,
   "metadata": {},
   "outputs": [
    {
     "data": {
      "text/plain": [
       "Text(0, 0.5, 'blocks north of city center')"
      ]
     },
     "execution_count": 123,
     "metadata": {},
     "output_type": "execute_result"
    },
    {
     "data": {
      "image/png": "[encoded data removed]",
      "text/plain": [
       "<Figure size 432x288 with 1 Axes>"
      ]
     },
     "metadata": {
      "needs_background": "light"
     },
     "output_type": "display_data"
    }
   ],
   "source": [
    "for i, cluster, marker, color in zip([1,2,3],\n",
    "                                     three_clusters, \n",
    "                                     list('Do*'),\n",
    "                                     list('rgb')):\n",
    "    xs, ys = zip(*cluster)\n",
    "    plt.scatter(xs, ys, color=color, marker=marker)\n",
    "    \n",
    "    # Put a number at the mean of the cluster.\n",
    "    x, y = vector_mean(cluster)\n",
    "    plt.plot(x, y, marker='$' + str(i) + '$', color='black')\n",
    "\n",
    "plt.title('User Locations -- 3 Bottom-Up Clusters, Min')\n",
    "plt.xlabel('blocks east of city center')\n",
    "plt.ylabel('blocks north of city center')"
   ]
  },
  {
   "cell_type": "code",
   "execution_count": 124,
   "metadata": {},
   "outputs": [
    {
     "data": {
      "text/plain": [
       "Text(0, 0.5, 'blocks north of city center')"
      ]
     },
     "execution_count": 124,
     "metadata": {},
     "output_type": "execute_result"
    },
    {
     "data": {
      "image/png": "[encoded data removed]",
      "text/plain": [
       "<Figure size 432x288 with 1 Axes>"
      ]
     },
     "metadata": {
      "needs_background": "light"
     },
     "output_type": "display_data"
    }
   ],
   "source": [
    "# Using max distance.\n",
    "base_cluster = bottom_up_cluster(inputs, distance_agg=max)\n",
    "three_clusters = [get_values(cluster) \n",
    "                  for cluster in generate_clusters(base_cluster, 3)]\n",
    "for i, cluster, marker, color in zip([1,2,3],\n",
    "                                     three_clusters, \n",
    "                                     list('Do*'),\n",
    "                                     list('rgb')):\n",
    "    xs, ys = zip(*cluster)\n",
    "    plt.scatter(xs, ys, color=color, marker=marker)\n",
    "    \n",
    "    # Put a number at the mean of the cluster.\n",
    "    x, y = vector_mean(cluster)\n",
    "    plt.plot(x, y, marker='$' + str(i) + '$', color='black')\n",
    "\n",
    "plt.title('User Locations -- 3 Bottom-Up Clusters, Max')\n",
    "plt.xlabel('blocks east of city center')\n",
    "plt.ylabel('blocks north of city center')"
   ]
  },
  {
   "cell_type": "code",
   "execution_count": null,
   "metadata": {},
   "outputs": [],
   "source": []
  }
 ],
 "metadata": {
  "kernelspec": {
   "display_name": "Python 3",
   "language": "python",
   "name": "python3"
  },
  "language_info": {
   "codemirror_mode": {
    "name": "ipython",
    "version": 3
   },
   "file_extension": ".py",
   "mimetype": "text/x-python",
   "name": "python",
   "nbconvert_exporter": "python",
   "pygments_lexer": "ipython3",
   "version": "3.7.3"
  }
 },
 "nbformat": 4,
 "nbformat_minor": 2
}
