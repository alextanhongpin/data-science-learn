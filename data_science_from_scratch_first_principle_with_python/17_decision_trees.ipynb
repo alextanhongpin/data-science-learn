{
 "cells": [
  {
   "cell_type": "code",
   "execution_count": 1,
   "metadata": {},
   "outputs": [],
   "source": [
    "%matplotlib inline\n",
    "\n",
    "import math\n",
    "import numpy as np\n",
    "import matplotlib.pyplot as plt\n",
    "\n",
    "from collections import Counter, defaultdict\n",
    "from functools import partial\n",
    "import unittest"
   ]
  },
  {
   "cell_type": "code",
   "execution_count": 2,
   "metadata": {},
   "outputs": [],
   "source": [
    "inputs = [\n",
    "    ({'level':'Senior','lang':'Java','tweets':'no','phd':'no'},   False),\n",
    "    ({'level':'Senior','lang':'Java','tweets':'no','phd':'yes'},  False),\n",
    "    ({'level':'Mid','lang':'Python','tweets':'no','phd':'no'},     True),\n",
    "    ({'level':'Junior','lang':'Python','tweets':'no','phd':'no'},  True),\n",
    "    ({'level':'Junior','lang':'R','tweets':'yes','phd':'no'},      True),\n",
    "    ({'level':'Junior','lang':'R','tweets':'yes','phd':'yes'},    False),\n",
    "    ({'level':'Mid','lang':'R','tweets':'yes','phd':'yes'},        True),\n",
    "    ({'level':'Senior','lang':'Python','tweets':'no','phd':'no'}, False),\n",
    "    ({'level':'Senior','lang':'R','tweets':'yes','phd':'no'},      True),\n",
    "    ({'level':'Junior','lang':'Python','tweets':'yes','phd':'no'}, True),\n",
    "    ({'level':'Senior','lang':'Python','tweets':'yes','phd':'yes'},True),\n",
    "    ({'level':'Mid','lang':'Python','tweets':'no','phd':'yes'},    True),\n",
    "    ({'level':'Mid','lang':'Java','tweets':'yes','phd':'no'},      True),\n",
    "    ({'level':'Junior','lang':'Python','tweets':'no','phd':'yes'},False)]"
   ]
  },
  {
   "cell_type": "code",
   "execution_count": 3,
   "metadata": {},
   "outputs": [],
   "source": [
    "def entropy(class_probabilities):\n",
    "    \"\"\"Given a list of class probabilities, compute the entropy.\"\"\"\n",
    "    return sum(-p * math.log(p, 2)\n",
    "               for p in class_probabilities\n",
    "               if p) # Ignore zero probabilities."
   ]
  },
  {
   "cell_type": "markdown",
   "metadata": {},
   "source": [
    "## Plot of Entropy"
   ]
  },
  {
   "cell_type": "code",
   "execution_count": 4,
   "metadata": {},
   "outputs": [
    {
     "data": {
      "text/plain": [
       "[<matplotlib.lines.Line2D at 0x115fc9eb8>]"
      ]
     },
     "execution_count": 4,
     "metadata": {},
     "output_type": "execute_result"
    },
    {
     "data": {
      "image/png": "[encoded data removed]",
      "text/plain": [
       "<Figure size 432x288 with 1 Axes>"
      ]
     },
     "metadata": {
      "needs_background": "light"
     },
     "output_type": "display_data"
    }
   ],
   "source": [
    "X = np.array([i / 100 for i in range(101)])\n",
    "y = [entropy(X_i) for X_i in X.reshape(-1, 1)]\n",
    "\n",
    "plt.xlabel('p')\n",
    "plt.ylabel('-p * log(p)')\n",
    "plt.title('Entropy')\n",
    "plt.plot(X, y)"
   ]
  },
  {
   "cell_type": "code",
   "execution_count": 5,
   "metadata": {},
   "outputs": [
    {
     "data": {
      "text/plain": [
       "[(0.0, 0),\n",
       " (0.1, 0.33219280948873625),\n",
       " (0.2, 0.46438561897747244),\n",
       " (0.3, 0.5210896782498619),\n",
       " (0.4, 0.5287712379549449),\n",
       " (0.5, 0.5),\n",
       " (0.6, 0.44217935649972373),\n",
       " (0.7, 0.3602012209808308),\n",
       " (0.8, 0.2575424759098898),\n",
       " (0.9, 0.13680278410054497),\n",
       " (1.0, 0.0)]"
      ]
     },
     "execution_count": 5,
     "metadata": {},
     "output_type": "execute_result"
    }
   ],
   "source": [
    "X = [i / 10 for i in range(11)]\n",
    "y = [entropy([X_i]) for X_i in X]\n",
    "list(zip(X, y))"
   ]
  },
  {
   "cell_type": "code",
   "execution_count": 6,
   "metadata": {},
   "outputs": [],
   "source": [
    "def class_probabilities(labels):    \n",
    "    total_count = len(labels)\n",
    "    return [count / total_count\n",
    "            for count in Counter(labels).values()]"
   ]
  },
  {
   "cell_type": "code",
   "execution_count": 7,
   "metadata": {},
   "outputs": [],
   "source": [
    "def data_entropy(labeled_data):\n",
    "    \"\"\"Computes the sum of all the entropies for the given data.\"\"\"\n",
    "    labels = [label for _, label in labeled_data]\n",
    "    probabilities = class_probabilities(labels)\n",
    "    return entropy(probabilities)"
   ]
  },
  {
   "cell_type": "code",
   "execution_count": 8,
   "metadata": {},
   "outputs": [],
   "source": [
    "def partition_entropy(subsets):\n",
    "    \"\"\"Find the entropy from this partition of data into subsets\n",
    "    subsets is a list of labeled data.\"\"\"\n",
    "    total_count = sum(len(subset) for subset in subsets)\n",
    "\n",
    "    return sum(data_entropy(subset) * len(subset) / total_count\n",
    "               for subset in subsets)"
   ]
  },
  {
   "cell_type": "code",
   "execution_count": 9,
   "metadata": {},
   "outputs": [],
   "source": [
    "def partition_by(inputs, attribute):\n",
    "    \"\"\"Each input is a pair (attribute_dict, label).\n",
    "    Returns a dict: attribute_value -> inputs.\"\"\"\n",
    "    groups = defaultdict(list)\n",
    "    for input in inputs:\n",
    "        key = input[0][attribute] # Get the value of the specified attribute.\n",
    "        groups[key].append(input) # Then add this input to the correct list.\n",
    "    return groups"
   ]
  },
  {
   "cell_type": "code",
   "execution_count": 10,
   "metadata": {},
   "outputs": [],
   "source": [
    "def partition_entropy_by(inputs, attribute):\n",
    "    \"\"\"Computes the entropy corresponding to the given partition.\"\"\"\n",
    "    partitions = partition_by(inputs, attribute)\n",
    "    return partition_entropy(partitions.values())"
   ]
  },
  {
   "cell_type": "code",
   "execution_count": 27,
   "metadata": {},
   "outputs": [
    {
     "name": "stderr",
     "output_type": "stream",
     "text": [
      "....\n",
      "----------------------------------------------------------------------\n",
      "Ran 4 tests in 0.011s\n",
      "\n",
      "OK\n"
     ]
    }
   ],
   "source": [
    "class TestDecisionTree(unittest.TestCase):\n",
    "    def test_entropy(self):\n",
    "        self.assertEqual(0, entropy([0])) # Entropy of 0 is 0.\n",
    "        self.assertEqual(0, entropy([1])) # Entropy of 1 is 0.\n",
    "        self.assertEqual(0.5, entropy([0.5])) # Entropy of 0.5 is 0.5.\n",
    "    \n",
    "    def test_class_probabilities(self):\n",
    "        self.assertEqual([0.5, 0.5], class_probabilities(['yes', 'no']))\n",
    "        self.assertEqual([2/3, 1/3], class_probabilities(['yes' , 'yes', 'no']))\n",
    "        self.assertEqual([2/4, 1/4, 1/4], class_probabilities(['yes' , 'yes', 'no', 'maybe']))\n",
    "        \n",
    "    def test_partition_entropy(self):\n",
    "        self.assertEqual(1.0, partition_entropy([[(_,'yes'), (_,'no')]]))\n",
    "\n",
    "        \n",
    "#     def test_partition_by(self):\n",
    "#         inputs = [({'name': 'john'}, True),\n",
    "#                   ({'name': 'doe'}, True)]\n",
    "#         want = defaultdict(list)\n",
    "#         # want['john'] = inputs[0]\n",
    "#         self.assertEqual(want, partition_by(inputs, 'name'))\n",
    "        \n",
    "    def test_data_entropy(self):\n",
    "        self.assertEqual(1.0, data_entropy([(_,False), (_,True)]))\n",
    "        self.assertEqual(entropy([1/3]) + entropy([2/3]), data_entropy([(_,False), (_,True), (_,True)]))\n",
    "\n",
    "if __name__ == '__main__':\n",
    "    unittest.main(argv=['first_argument_is_excluded'], exit=False)"
   ]
  },
  {
   "cell_type": "code",
   "execution_count": 12,
   "metadata": {},
   "outputs": [
    {
     "name": "stdout",
     "output_type": "stream",
     "text": [
      "level 0.6935361388961919\n",
      "lang 0.8601317128547441\n",
      "tweets 0.7884504573082896\n",
      "phd 0.8921589282623617\n"
     ]
    }
   ],
   "source": [
    "# Find the entropy for the given fields. \n",
    "# 'level' returns the lowest entropy, which is what we want.\n",
    "for key in ['level', 'lang', 'tweets', 'phd']:\n",
    "    print(key, partition_entropy_by(inputs, key))"
   ]
  },
  {
   "cell_type": "code",
   "execution_count": 13,
   "metadata": {},
   "outputs": [],
   "source": [
    "# Exclude the level.\n",
    "senior_inputs = [(input, label)\n",
    "                 for input, label in inputs if input['level'] == 'Senior']"
   ]
  },
  {
   "cell_type": "code",
   "execution_count": 14,
   "metadata": {},
   "outputs": [
    {
     "name": "stdout",
     "output_type": "stream",
     "text": [
      "lang 0.4\n",
      "tweets 0.0\n",
      "phd 0.9509775004326938\n"
     ]
    }
   ],
   "source": [
    "# Tweets produce the lowest entropy.\n",
    "for key in ['lang', 'tweets', 'phd']:\n",
    "    print(key, partition_entropy_by(senior_inputs, key))"
   ]
  },
  {
   "cell_type": "code",
   "execution_count": 15,
   "metadata": {},
   "outputs": [],
   "source": [
    "def classify(tree, input):\n",
    "    \"\"\"Classify the input using the given decision tree.\"\"\"\n",
    "    \n",
    "    # If this is a leaf node, return its value.\n",
    "    if tree in [True, False]:\n",
    "        return tree\n",
    "    \n",
    "    # Otherwise this tree consists of attribute to split on \n",
    "    # and a dictionary whose keys are values of that attribute\n",
    "    # and whose values of are subtrees to consider next.\n",
    "    attribute, subtree_dict = tree\n",
    "    \n",
    "    subtree_key = input.get(attribute) # None if input is missing.\n",
    "    \n",
    "    if subtree_key not in subtree_dict: # If not subtree fo key.\n",
    "        subtree_key = None # Use the None subtree.\n",
    "    \n",
    "    subtree = subtree_dict[subtree_key]\n",
    "    return classify(subtree, input)"
   ]
  },
  {
   "cell_type": "code",
   "execution_count": 16,
   "metadata": {},
   "outputs": [],
   "source": [
    "def build_tree_id3(inputs, split_candidates=None):\n",
    "    # If this is out first pass, all keys of the first input are split cndidates.\n",
    "    if split_candidates is None:\n",
    "        split_candidates = inputs[0][0].keys()\n",
    "    \n",
    "    # count Trues and Falses in the input.\n",
    "    num_inputs = len(inputs)\n",
    "    num_trues = len([label for item, label in inputs if label])\n",
    "    num_falses = num_inputs - num_trues\n",
    "    \n",
    "    if num_trues == 0: return False # No Trues? Return a \"False\" leaf.\n",
    "    if num_falses == 0: return True # No Falses? Return a \"True\" leaf.\n",
    "    \n",
    "    if not split_candidates: # If no split candidates left.\n",
    "        return num_trues >= num_falses # Return the majority leaf.\n",
    "    \n",
    "    # Otherwise split on best attribute.\n",
    "    best_attribute = min(split_candidates, \n",
    "                         key=partial(partition_entropy_by, inputs))\n",
    "    \n",
    "    partitions = partition_by(inputs, best_attribute)\n",
    "    new_candidates = [a for a in split_candidates \n",
    "                      if a != best_attribute]\n",
    "    \n",
    "    # Recursively build subtrees.\n",
    "    subtrees = { attribute_value: build_tree_id3(subset, new_candidates)\n",
    "                 for attribute_value, subset in partitions.items() }\n",
    "    \n",
    "    subtrees[None] = num_trues > num_falses # Default case.\n",
    "    return (best_attribute, subtrees)"
   ]
  },
  {
   "cell_type": "code",
   "execution_count": 17,
   "metadata": {},
   "outputs": [
    {
     "data": {
      "text/plain": [
       "True"
      ]
     },
     "execution_count": 17,
     "metadata": {},
     "output_type": "execute_result"
    }
   ],
   "source": [
    "tree = build_tree_id3(inputs)\n",
    "classify(tree, { 'level': 'Junior',\n",
    "                 'lang': 'Java',\n",
    "                 'tweets': 'yes',\n",
    "                 'phd': 'no'}) # True"
   ]
  },
  {
   "cell_type": "code",
   "execution_count": 18,
   "metadata": {},
   "outputs": [
    {
     "data": {
      "text/plain": [
       "False"
      ]
     },
     "execution_count": 18,
     "metadata": {},
     "output_type": "execute_result"
    }
   ],
   "source": [
    "classify(tree, { 'level': 'Junior',\n",
    "                 'lang': 'Java',\n",
    "                 'tweets': 'yes',\n",
    "                 'phd': 'yes'}) # False"
   ]
  },
  {
   "cell_type": "code",
   "execution_count": 19,
   "metadata": {},
   "outputs": [
    {
     "data": {
      "text/plain": [
       "True"
      ]
     },
     "execution_count": 19,
     "metadata": {},
     "output_type": "execute_result"
    }
   ],
   "source": [
    "classify(tree, { 'level': 'Intern' }) # True"
   ]
  },
  {
   "cell_type": "code",
   "execution_count": 20,
   "metadata": {},
   "outputs": [
    {
     "data": {
      "text/plain": [
       "False"
      ]
     },
     "execution_count": 20,
     "metadata": {},
     "output_type": "execute_result"
    }
   ],
   "source": [
    "classify(tree, { 'level': 'Senior' }) # False"
   ]
  },
  {
   "cell_type": "code",
   "execution_count": 21,
   "metadata": {},
   "outputs": [],
   "source": [
    "def forest_classify(trees, input):\n",
    "    votes = [classify(tree, input) for tree in trees]\n",
    "    vote_counts = Counter(votes)\n",
    "    return vote_counts.most_common(1)[0][0]"
   ]
  }
 ],
 "metadata": {
  "kernelspec": {
   "display_name": "Python 3",
   "language": "python",
   "name": "python3"
  },
  "language_info": {
   "codemirror_mode": {
    "name": "ipython",
    "version": 3
   },
   "file_extension": ".py",
   "mimetype": "text/x-python",
   "name": "python",
   "nbconvert_exporter": "python",
   "pygments_lexer": "ipython3",
   "version": "3.7.3"
  }
 },
 "nbformat": 4,
 "nbformat_minor": 2
}
